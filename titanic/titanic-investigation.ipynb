{
 "cells": [
  {
   "cell_type": "markdown",
   "metadata": {},
   "source": [
    "# Overview and background\n",
    "## Background\n",
    "My name is Brad Messer and I'm a machine learning and big data aficionado whose been following the field since my junior year of college when I first heard about it. At that point, I'd been bouncing around between a few different paths and once I heard about data science (and **particularly how it could help people**) I was hooked. Upon hearing about it, I got heavily involved in the applied mathematics side of my major via mathematical modeling (think more traditional statistical analysis with a research heavy focus) and undergraduate research in dynamical systems and complexity theory. \n",
    "\n",
    "Have you ever thought about the [mathematics that describes how birds move in a flock?](https://www.youtube.com/watch?app=desktop&v=0dskCpuxqtI&ab_channel=CGTN) An advanced application of differential equations is something I had the pleasure of spending 1.5 years working on during my time in college.\n",
    "\n",
    "Senior year, I received an offer from IBM Z and I've been working as a software tester since, shipping Real-Time SMF and the IzODA product in my time there. It has been an incredible pleasure working on this platform and would strongly recommend it. You learn so much in just a short amount of time and the people are absolutely amazing.\n",
    "\n",
    "With data science here to stay, I'm intrigued at getting back into the mathematical side of things. Hopefully that shows throughout the notebook here.\n",
    "\n",
    "## Overview\n",
    "Why did I go through all of that above? In my time working on various notebooks, you will likely see me relying on my previous training for decisions I make. In particular, I've already gone through the data for the [titanic dataset present here](https://www.kaggle.com/c/titanic/data?select=gender_submission.csv) and identified different variables I would like to use inside of a logistic regression classifier. At this time, I'm trying to keep things simple as I'm just getting through a \"Machine Learning Scientist with python\" track on datacamp and am looking to stretch my legs before jumping into the deep end. I look forward to working on this problem with you though and hope you enjoy following along :)"
   ]
  },
  {
   "cell_type": "markdown",
   "metadata": {},
   "source": [
    "# Exploratory data analysis\n",
    "This problem might not be completely representative of my ability since I've got prior experience with it from a data science seminar hosted by a friend at work. I'd still like to work through it though and show my thoughts as this will give me a chance to work with the material I just learned in the \"Machine learning scientist with python\" track."
   ]
  },
  {
   "cell_type": "markdown",
   "metadata": {},
   "source": [
    "Moving along, based on the previous knowledge of this problem and training, I'm really interested in using the following fields in my analysis:\n",
    "1. Survival - this is our binary categorical predictor variable for the problem. Either the people survived or they didn't and an analysis of this problem should reveal the underlying patterns about which people survived and which people didn't.\n",
    "2. Pclass - This is where prior knowledge regarding this problem comes into play. Rooms on the titanic were distributed into 3 different classes. Those in first class were closer to the dock of the ship meanwhile 2nd and 3rd class rooms were distributed appropriately into lower floors on the ship, thus making it harder to reach the dock when the ship hit the iceberg.\n",
    "3. Sex - Based on prior experience from the data science seminar hosted by my friend, women had more of a chance to survive than men did. Reviewing this variable in detail allows us to quantify and understand these relationships and attempt an explanation about what was happening when the titanic hit the iceberg based on gender.\n",
    "4. Age - Again, my experience from the data science seminar kicks in and reminds me that different age ranges had a different chance of surviving. This model would help me quantify those relationships based on age range and provide some sort of explanation for what happened that night on the titanic.\n"
   ]
  },
  {
   "cell_type": "markdown",
   "metadata": {},
   "source": [
    "## Considered, but left out variables\n",
    "Just as important as what we use within our analysis is what we choose to leave out of our analysis. I chose to leave out these variables for the following reasons:\n",
    "\n",
    "1. sibsp - With the aforementioned variables selected above, this would do nothing but complicate our model unnecessarily and make it even harder to understand the current relationships inside the model by adding an extra dimension and drawing away predictive power from the existing variables. This variable does offer an interesting chance to investigate the problem from another angle though and may be considered for later iterations.\n",
    "\n",
    "2. parch - Same reason as sibsp. The investigation could utilize this variable though if we would like to put a different spin on the analysis.\n",
    "\n",
    "3. ticket - Ticket number. This seems to play a similar role as passenger id and thus seems redundant inside the analysis.\n",
    "\n",
    "4. fare - Passenger fare. Pclass, a proxy for socio-economic status inside of the dataset plays a similar role and thus makes this field redundant inside of the data.\n",
    "\n",
    "5. cabin - Cabin number. Again, this feels outmoded by the use of pclass, the ticket class inside of the model.\n",
    "\n",
    "6. embarked - Port of embarkation or where the passengers boarded the ship. Based on prior knowledge of the problem from the data science seminar I was in, each value again roughly approximates a person's socio-economic status covered by pclass and thus we can eliminate this from consideration in our model."
   ]
  },
  {
   "cell_type": "markdown",
   "metadata": {},
   "source": [
    "## Reading in the data and performing the analysis\n",
    "With all that out of the way, we can finally read in the csv file and begin doing exploratory data analysis on the considered variables."
   ]
  },
  {
   "cell_type": "code",
   "execution_count": 111,
   "metadata": {},
   "outputs": [],
   "source": [
    "import pandas as pd\n",
    "import seaborn as sns\n",
    "from sklearn.linear_model import LogisticRegression\n",
    "from sklearn.pipeline import Pipeline\n",
    "from sklearn.preprocessing import OneHotEncoder\n",
    "from sklearn.preprocessing import LabelBinarizer\n",
    "from sklearn.impute import SimpleImputer\n",
    "from sklearn.metrics import accuracy_score\n",
    "from sklearn.model_selection import GridSearchCV"
   ]
  },
  {
   "cell_type": "code",
   "execution_count": 4,
   "metadata": {},
   "outputs": [],
   "source": [
    "train = pd.read_csv('train.csv')\n",
    "test = pd.read_csv('test.csv')"
   ]
  },
  {
   "cell_type": "code",
   "execution_count": 7,
   "metadata": {},
   "outputs": [
    {
     "data": {
      "text/html": [
       "<div>\n",
       "<style scoped>\n",
       "    .dataframe tbody tr th:only-of-type {\n",
       "        vertical-align: middle;\n",
       "    }\n",
       "\n",
       "    .dataframe tbody tr th {\n",
       "        vertical-align: top;\n",
       "    }\n",
       "\n",
       "    .dataframe thead th {\n",
       "        text-align: right;\n",
       "    }\n",
       "</style>\n",
       "<table border=\"1\" class=\"dataframe\">\n",
       "  <thead>\n",
       "    <tr style=\"text-align: right;\">\n",
       "      <th></th>\n",
       "      <th>PassengerId</th>\n",
       "      <th>Survived</th>\n",
       "      <th>Pclass</th>\n",
       "      <th>Name</th>\n",
       "      <th>Sex</th>\n",
       "      <th>Age</th>\n",
       "      <th>SibSp</th>\n",
       "      <th>Parch</th>\n",
       "      <th>Ticket</th>\n",
       "      <th>Fare</th>\n",
       "      <th>Cabin</th>\n",
       "      <th>Embarked</th>\n",
       "    </tr>\n",
       "  </thead>\n",
       "  <tbody>\n",
       "    <tr>\n",
       "      <th>0</th>\n",
       "      <td>1</td>\n",
       "      <td>0</td>\n",
       "      <td>3</td>\n",
       "      <td>Braund, Mr. Owen Harris</td>\n",
       "      <td>male</td>\n",
       "      <td>22.0</td>\n",
       "      <td>1</td>\n",
       "      <td>0</td>\n",
       "      <td>A/5 21171</td>\n",
       "      <td>7.2500</td>\n",
       "      <td>NaN</td>\n",
       "      <td>S</td>\n",
       "    </tr>\n",
       "    <tr>\n",
       "      <th>1</th>\n",
       "      <td>2</td>\n",
       "      <td>1</td>\n",
       "      <td>1</td>\n",
       "      <td>Cumings, Mrs. John Bradley (Florence Briggs Th...</td>\n",
       "      <td>female</td>\n",
       "      <td>38.0</td>\n",
       "      <td>1</td>\n",
       "      <td>0</td>\n",
       "      <td>PC 17599</td>\n",
       "      <td>71.2833</td>\n",
       "      <td>C85</td>\n",
       "      <td>C</td>\n",
       "    </tr>\n",
       "    <tr>\n",
       "      <th>2</th>\n",
       "      <td>3</td>\n",
       "      <td>1</td>\n",
       "      <td>3</td>\n",
       "      <td>Heikkinen, Miss. Laina</td>\n",
       "      <td>female</td>\n",
       "      <td>26.0</td>\n",
       "      <td>0</td>\n",
       "      <td>0</td>\n",
       "      <td>STON/O2. 3101282</td>\n",
       "      <td>7.9250</td>\n",
       "      <td>NaN</td>\n",
       "      <td>S</td>\n",
       "    </tr>\n",
       "    <tr>\n",
       "      <th>3</th>\n",
       "      <td>4</td>\n",
       "      <td>1</td>\n",
       "      <td>1</td>\n",
       "      <td>Futrelle, Mrs. Jacques Heath (Lily May Peel)</td>\n",
       "      <td>female</td>\n",
       "      <td>35.0</td>\n",
       "      <td>1</td>\n",
       "      <td>0</td>\n",
       "      <td>113803</td>\n",
       "      <td>53.1000</td>\n",
       "      <td>C123</td>\n",
       "      <td>S</td>\n",
       "    </tr>\n",
       "    <tr>\n",
       "      <th>4</th>\n",
       "      <td>5</td>\n",
       "      <td>0</td>\n",
       "      <td>3</td>\n",
       "      <td>Allen, Mr. William Henry</td>\n",
       "      <td>male</td>\n",
       "      <td>35.0</td>\n",
       "      <td>0</td>\n",
       "      <td>0</td>\n",
       "      <td>373450</td>\n",
       "      <td>8.0500</td>\n",
       "      <td>NaN</td>\n",
       "      <td>S</td>\n",
       "    </tr>\n",
       "  </tbody>\n",
       "</table>\n",
       "</div>"
      ],
      "text/plain": [
       "   PassengerId  Survived  Pclass  \\\n",
       "0            1         0       3   \n",
       "1            2         1       1   \n",
       "2            3         1       3   \n",
       "3            4         1       1   \n",
       "4            5         0       3   \n",
       "\n",
       "                                                Name     Sex   Age  SibSp  \\\n",
       "0                            Braund, Mr. Owen Harris    male  22.0      1   \n",
       "1  Cumings, Mrs. John Bradley (Florence Briggs Th...  female  38.0      1   \n",
       "2                             Heikkinen, Miss. Laina  female  26.0      0   \n",
       "3       Futrelle, Mrs. Jacques Heath (Lily May Peel)  female  35.0      1   \n",
       "4                           Allen, Mr. William Henry    male  35.0      0   \n",
       "\n",
       "   Parch            Ticket     Fare Cabin Embarked  \n",
       "0      0         A/5 21171   7.2500   NaN        S  \n",
       "1      0          PC 17599  71.2833   C85        C  \n",
       "2      0  STON/O2. 3101282   7.9250   NaN        S  \n",
       "3      0            113803  53.1000  C123        S  \n",
       "4      0            373450   8.0500   NaN        S  "
      ]
     },
     "execution_count": 7,
     "metadata": {},
     "output_type": "execute_result"
    }
   ],
   "source": [
    "train.head()"
   ]
  },
  {
   "cell_type": "code",
   "execution_count": 10,
   "metadata": {},
   "outputs": [],
   "source": [
    "base_train = train.drop(['SibSp', 'Parch', 'Ticket', 'Fare', 'Cabin', 'Embarked', 'Name'], axis=1)"
   ]
  },
  {
   "cell_type": "code",
   "execution_count": 11,
   "metadata": {},
   "outputs": [
    {
     "data": {
      "text/html": [
       "<div>\n",
       "<style scoped>\n",
       "    .dataframe tbody tr th:only-of-type {\n",
       "        vertical-align: middle;\n",
       "    }\n",
       "\n",
       "    .dataframe tbody tr th {\n",
       "        vertical-align: top;\n",
       "    }\n",
       "\n",
       "    .dataframe thead th {\n",
       "        text-align: right;\n",
       "    }\n",
       "</style>\n",
       "<table border=\"1\" class=\"dataframe\">\n",
       "  <thead>\n",
       "    <tr style=\"text-align: right;\">\n",
       "      <th></th>\n",
       "      <th>PassengerId</th>\n",
       "      <th>Survived</th>\n",
       "      <th>Pclass</th>\n",
       "      <th>Sex</th>\n",
       "      <th>Age</th>\n",
       "    </tr>\n",
       "  </thead>\n",
       "  <tbody>\n",
       "    <tr>\n",
       "      <th>0</th>\n",
       "      <td>1</td>\n",
       "      <td>0</td>\n",
       "      <td>3</td>\n",
       "      <td>male</td>\n",
       "      <td>22.0</td>\n",
       "    </tr>\n",
       "    <tr>\n",
       "      <th>1</th>\n",
       "      <td>2</td>\n",
       "      <td>1</td>\n",
       "      <td>1</td>\n",
       "      <td>female</td>\n",
       "      <td>38.0</td>\n",
       "    </tr>\n",
       "    <tr>\n",
       "      <th>2</th>\n",
       "      <td>3</td>\n",
       "      <td>1</td>\n",
       "      <td>3</td>\n",
       "      <td>female</td>\n",
       "      <td>26.0</td>\n",
       "    </tr>\n",
       "    <tr>\n",
       "      <th>3</th>\n",
       "      <td>4</td>\n",
       "      <td>1</td>\n",
       "      <td>1</td>\n",
       "      <td>female</td>\n",
       "      <td>35.0</td>\n",
       "    </tr>\n",
       "    <tr>\n",
       "      <th>4</th>\n",
       "      <td>5</td>\n",
       "      <td>0</td>\n",
       "      <td>3</td>\n",
       "      <td>male</td>\n",
       "      <td>35.0</td>\n",
       "    </tr>\n",
       "  </tbody>\n",
       "</table>\n",
       "</div>"
      ],
      "text/plain": [
       "   PassengerId  Survived  Pclass     Sex   Age\n",
       "0            1         0       3    male  22.0\n",
       "1            2         1       1  female  38.0\n",
       "2            3         1       3  female  26.0\n",
       "3            4         1       1  female  35.0\n",
       "4            5         0       3    male  35.0"
      ]
     },
     "execution_count": 11,
     "metadata": {},
     "output_type": "execute_result"
    }
   ],
   "source": [
    "base_train.head()"
   ]
  },
  {
   "cell_type": "markdown",
   "metadata": {},
   "source": [
    "## Trimming down the data\n",
    "With the data trimmed down precisely to where I need it, I can take a look inside the categorical variables and get an idea if any class imbalances exist inside my data. If so, it could be helpful to account for this in my analysis."
   ]
  },
  {
   "cell_type": "code",
   "execution_count": 12,
   "metadata": {},
   "outputs": [
    {
     "data": {
      "text/plain": [
       "Survived  Pclass  Sex   \n",
       "0         3       male      300\n",
       "1         1       female     91\n",
       "0         2       male       91\n",
       "          1       male       77\n",
       "1         3       female     72\n",
       "0         3       female     72\n",
       "1         2       female     70\n",
       "          3       male       47\n",
       "          1       male       45\n",
       "          2       male       17\n",
       "0         2       female      6\n",
       "          1       female      3\n",
       "dtype: int64"
      ]
     },
     "execution_count": 12,
     "metadata": {},
     "output_type": "execute_result"
    }
   ],
   "source": [
    "base_train[['Survived', 'Pclass', 'Sex']].value_counts()"
   ]
  },
  {
   "cell_type": "markdown",
   "metadata": {},
   "source": [
    "I must admit I was not expecting a multi-index to be returned like the one above but this makes it all the easier to understand the breakdown of different classes inside of the analysis. Now, let me look at the value counts on these same columns independently to understand total proportions where our proportions reside and what needs done in order to move this forward."
   ]
  },
  {
   "cell_type": "code",
   "execution_count": 13,
   "metadata": {},
   "outputs": [
    {
     "data": {
      "text/plain": [
       "Survived\n",
       "0           549\n",
       "1           342\n",
       "dtype: int64"
      ]
     },
     "execution_count": 13,
     "metadata": {},
     "output_type": "execute_result"
    }
   ],
   "source": [
    "base_train[['Survived']].value_counts()"
   ]
  },
  {
   "cell_type": "code",
   "execution_count": 14,
   "metadata": {},
   "outputs": [
    {
     "data": {
      "text/plain": [
       "Pclass\n",
       "3         491\n",
       "1         216\n",
       "2         184\n",
       "dtype: int64"
      ]
     },
     "execution_count": 14,
     "metadata": {},
     "output_type": "execute_result"
    }
   ],
   "source": [
    "base_train[['Pclass']].value_counts()"
   ]
  },
  {
   "cell_type": "code",
   "execution_count": 15,
   "metadata": {},
   "outputs": [
    {
     "data": {
      "text/plain": [
       "Sex   \n",
       "male      577\n",
       "female    314\n",
       "dtype: int64"
      ]
     },
     "execution_count": 15,
     "metadata": {},
     "output_type": "execute_result"
    }
   ],
   "source": [
    "base_train[['Sex']].value_counts()"
   ]
  },
  {
   "cell_type": "markdown",
   "metadata": {},
   "source": [
    "## Analysis so far\n",
    "Even digging in so far, the number of dead people are overwhelmingly represented by males from the third ticket class (i.e. 300 in the full complex chart). Looking into females from the same ticket class, it looks like that number drops down to 72, which is quite a stark difference.\n",
    "\n",
    "Since this is becoming a trend, let's break down the interpretation here for easier interpretation by myself and the reader.\n",
    "\n",
    "Statistics of those who died on the titanic:\n",
    "- 300 3rd class males\n",
    "- 72 3rd class females\n",
    "- 91 2nd class males\n",
    "- 6 2nd class females\n",
    "- 77 first class males\n",
    "- 3 first class females\n",
    "\n",
    "Statistics of those who survived the titanic:\n",
    "- 47 3rd class males\n",
    "- 72 3rd class females\n",
    "- 17 2nd class males\n",
    "- 70 2nd class females\n",
    "- 45 1st class males\n",
    "- 91 1st class females"
   ]
  },
  {
   "cell_type": "markdown",
   "metadata": {},
   "source": [
    "To help break this down even further, it would be great to have charts of those who did not survive and those who did survive and understand how different factors played into this role. I'll start by generating a seaborn pairplot and see if that accurately explains what I'm seeing."
   ]
  },
  {
   "cell_type": "code",
   "execution_count": 26,
   "metadata": {},
   "outputs": [
    {
     "data": {
      "text/plain": [
       "<seaborn.axisgrid.PairGrid at 0x7fd886b2cf70>"
      ]
     },
     "execution_count": 26,
     "metadata": {},
     "output_type": "execute_result"
    },
    {
     "data": {
      "image/png": "[encoded data removed]",
      "text/plain": [
       "<Figure size 540x540 with 12 Axes>"
      ]
     },
     "metadata": {
      "needs_background": "light"
     },
     "output_type": "display_data"
    }
   ],
   "source": [
    "sns.pairplot(base_train.drop('PassengerId', axis=1))"
   ]
  },
  {
   "cell_type": "markdown",
   "metadata": {},
   "source": [
    "In this pair plot, age is very well normally distributed with a slight right skew, so I won't worry about it much. Thinking through my problem more, I'd like to generate a histogram stratifying by both gender and ticket class to give the best idea of how the gender and ticket class effects contributed to survival rates of the crew."
   ]
  },
  {
   "cell_type": "code",
   "execution_count": 27,
   "metadata": {},
   "outputs": [
    {
     "data": {
      "text/plain": [
       "<AxesSubplot:xlabel='Pclass', ylabel='Survived'>"
      ]
     },
     "execution_count": 27,
     "metadata": {},
     "output_type": "execute_result"
    },
    {
     "data": {
      "image/png": "[encoded data removed]",
      "text/plain": [
       "<Figure size 432x288 with 1 Axes>"
      ]
     },
     "metadata": {
      "needs_background": "light"
     },
     "output_type": "display_data"
    }
   ],
   "source": [
    "sns.histplot(x='Pclass', y='Survived', hue='Sex', data=base_train)"
   ]
  },
  {
   "cell_type": "markdown",
   "metadata": {},
   "source": [
    "Unfortunately based on [Michigan University's \"Understanding and Visualizing Data with Python week 3 lab\"](https://www.coursera.org/learn/understanding-visualization-data/ungradedLab/FIesi/lab) on coursera, I don't have a better way to visualize categorical bivariate data and really display what I'm trying to show. In the interest of time, I'll stick with the psuedo contingency table shown above and move along in my analysis."
   ]
  },
  {
   "cell_type": "markdown",
   "metadata": {},
   "source": [
    "## Cleaning the data\n",
    "Before going further, let's get an idea of what the missing values look like in the variables of interest and how we can address these in during Feature Engineering."
   ]
  },
  {
   "cell_type": "code",
   "execution_count": 33,
   "metadata": {},
   "outputs": [
    {
     "data": {
      "text/plain": [
       "PassengerId      0\n",
       "Survived         0\n",
       "Pclass           0\n",
       "Sex              0\n",
       "Age            177\n",
       "dtype: int64"
      ]
     },
     "execution_count": 33,
     "metadata": {},
     "output_type": "execute_result"
    }
   ],
   "source": [
    "base_train.isnull().sum()"
   ]
  },
  {
   "cell_type": "markdown",
   "metadata": {},
   "source": [
    "Based on this above output, it looks like we have no missing values in any of the predictor variables except age, which corresponds to a total of 177 missing values. Let's get a total count of the number of rows and then we can decide how we want to handle filling in this data."
   ]
  },
  {
   "cell_type": "code",
   "execution_count": 34,
   "metadata": {},
   "outputs": [
    {
     "data": {
      "text/plain": [
       "891"
      ]
     },
     "execution_count": 34,
     "metadata": {},
     "output_type": "execute_result"
    }
   ],
   "source": [
    "len(base_train['PassengerId'])"
   ]
  },
  {
   "cell_type": "markdown",
   "metadata": {},
   "source": [
    "177 missing observations across a total of 891 total entries is a lot of potential information that we'd be missing out on. Let's use an imputation strategy to fill this in during our Feature Engineering section of the analysis."
   ]
  },
  {
   "cell_type": "code",
   "execution_count": 37,
   "metadata": {},
   "outputs": [
    {
     "data": {
      "text/plain": [
       "count    714.000000\n",
       "mean      29.699118\n",
       "std       14.526497\n",
       "min        0.420000\n",
       "25%       20.125000\n",
       "50%       28.000000\n",
       "75%       38.000000\n",
       "max       80.000000\n",
       "Name: Age, dtype: float64"
      ]
     },
     "execution_count": 37,
     "metadata": {},
     "output_type": "execute_result"
    }
   ],
   "source": [
    "base_train['Age'].describe()"
   ]
  },
  {
   "cell_type": "markdown",
   "metadata": {},
   "source": [
    "Based on these statistics, it seems like the mean is overall more representative of the data and would help better fill in these missing values than the median. The mode also doesn't capture the higher level values as I'd like, so I'm not going to consdier that in this analysis."
   ]
  },
  {
   "cell_type": "markdown",
   "metadata": {},
   "source": [
    "## Feature Engineering\n",
    "Now that we're a good chunk into our analysis and have found some interesting patterns, we can begin to clean up the data into something more useful for a machine learning algorithm. More details on the [logistic regression model](https://scikit-learn.org/stable/modules/generated/sklearn.linear_model.LogisticRegression.html), but I'm checking the fit, predict methods to understand what format this model takes. Since it's an array-like or sparse matrix of shape (n samples, n features) for the X parameter and an array like of (nsamples,) for the y variable, I'll use OneHotEncoder to clean up the categorical predictor variables and LabelBinarizer to clean up my categorical response variable."
   ]
  },
  {
   "cell_type": "code",
   "execution_count": 57,
   "metadata": {},
   "outputs": [],
   "source": [
    "imputer = SimpleImputer()\n",
    "ohe_estimator = OneHotEncoder(categories=['Pclass', 'Sex'], drop='first')\n",
    "label_bin = LabelBinarizer()"
   ]
  },
  {
   "cell_type": "code",
   "execution_count": 58,
   "metadata": {},
   "outputs": [
    {
     "data": {
      "text/plain": [
       "PassengerId    0\n",
       "Survived       0\n",
       "Pclass         0\n",
       "Sex            0\n",
       "Age            0\n",
       "dtype: int64"
      ]
     },
     "execution_count": 58,
     "metadata": {},
     "output_type": "execute_result"
    }
   ],
   "source": [
    "base_train['Age'] = imputer.fit_transform(base_train['Age'].values.reshape(-1, 1))\n",
    "base_train.isnull().sum()\n",
    "#base_train = ohe_estimator.fit_transform(base_train)"
   ]
  },
  {
   "cell_type": "code",
   "execution_count": 59,
   "metadata": {},
   "outputs": [
    {
     "ename": "KeyError",
     "evalue": "('Pclass', 'Sex')",
     "output_type": "error",
     "traceback": [
      "\u001b[0;31m---------------------------------------------------------------------------\u001b[0m",
      "\u001b[0;31mKeyError\u001b[0m                                  Traceback (most recent call last)",
      "\u001b[0;32m~/anaconda3/envs/kaggle-env/lib/python3.8/site-packages/pandas/core/indexes/base.py\u001b[0m in \u001b[0;36mget_loc\u001b[0;34m(self, key, method, tolerance)\u001b[0m\n\u001b[1;32m   2894\u001b[0m             \u001b[0;32mtry\u001b[0m\u001b[0;34m:\u001b[0m\u001b[0;34m\u001b[0m\u001b[0;34m\u001b[0m\u001b[0m\n\u001b[0;32m-> 2895\u001b[0;31m                 \u001b[0;32mreturn\u001b[0m \u001b[0mself\u001b[0m\u001b[0;34m.\u001b[0m\u001b[0m_engine\u001b[0m\u001b[0;34m.\u001b[0m\u001b[0mget_loc\u001b[0m\u001b[0;34m(\u001b[0m\u001b[0mcasted_key\u001b[0m\u001b[0;34m)\u001b[0m\u001b[0;34m\u001b[0m\u001b[0;34m\u001b[0m\u001b[0m\n\u001b[0m\u001b[1;32m   2896\u001b[0m             \u001b[0;32mexcept\u001b[0m \u001b[0mKeyError\u001b[0m \u001b[0;32mas\u001b[0m \u001b[0merr\u001b[0m\u001b[0;34m:\u001b[0m\u001b[0;34m\u001b[0m\u001b[0;34m\u001b[0m\u001b[0m\n",
      "\u001b[0;32mpandas/_libs/index.pyx\u001b[0m in \u001b[0;36mpandas._libs.index.IndexEngine.get_loc\u001b[0;34m()\u001b[0m\n",
      "\u001b[0;32mpandas/_libs/index.pyx\u001b[0m in \u001b[0;36mpandas._libs.index.IndexEngine.get_loc\u001b[0;34m()\u001b[0m\n",
      "\u001b[0;32mpandas/_libs/hashtable_class_helper.pxi\u001b[0m in \u001b[0;36mpandas._libs.hashtable.PyObjectHashTable.get_item\u001b[0;34m()\u001b[0m\n",
      "\u001b[0;32mpandas/_libs/hashtable_class_helper.pxi\u001b[0m in \u001b[0;36mpandas._libs.hashtable.PyObjectHashTable.get_item\u001b[0;34m()\u001b[0m\n",
      "\u001b[0;31mKeyError\u001b[0m: ('Pclass', 'Sex')",
      "\nThe above exception was the direct cause of the following exception:\n",
      "\u001b[0;31mKeyError\u001b[0m                                  Traceback (most recent call last)",
      "\u001b[0;32m<ipython-input-59-0b04208f0ecd>\u001b[0m in \u001b[0;36m<module>\u001b[0;34m\u001b[0m\n\u001b[0;32m----> 1\u001b[0;31m \u001b[0mencoded_cols\u001b[0m \u001b[0;34m=\u001b[0m \u001b[0mohe_estimator\u001b[0m\u001b[0;34m.\u001b[0m\u001b[0mfit_transform\u001b[0m\u001b[0;34m(\u001b[0m\u001b[0mbase_train\u001b[0m\u001b[0;34m[\u001b[0m\u001b[0;34m'Pclass'\u001b[0m\u001b[0;34m,\u001b[0m \u001b[0;34m'Sex'\u001b[0m\u001b[0;34m]\u001b[0m\u001b[0;34m)\u001b[0m\u001b[0;34m\u001b[0m\u001b[0;34m\u001b[0m\u001b[0m\n\u001b[0m\u001b[1;32m      2\u001b[0m \u001b[0mencoded_cols_df\u001b[0m \u001b[0;34m=\u001b[0m \u001b[0mpd\u001b[0m\u001b[0;34m.\u001b[0m\u001b[0mDataFrame\u001b[0m\u001b[0;34m(\u001b[0m\u001b[0mencoded_cols\u001b[0m\u001b[0;34m,\u001b[0m \u001b[0mindex\u001b[0m\u001b[0;34m=\u001b[0m\u001b[0mbase_train\u001b[0m\u001b[0;34m.\u001b[0m\u001b[0mindex\u001b[0m\u001b[0;34m)\u001b[0m\u001b[0;34m\u001b[0m\u001b[0;34m\u001b[0m\u001b[0m\n\u001b[1;32m      3\u001b[0m \u001b[0menocded_cols_df\u001b[0m\u001b[0;34m.\u001b[0m\u001b[0mhead\u001b[0m\u001b[0;34m(\u001b[0m\u001b[0;34m)\u001b[0m\u001b[0;34m\u001b[0m\u001b[0;34m\u001b[0m\u001b[0m\n",
      "\u001b[0;32m~/anaconda3/envs/kaggle-env/lib/python3.8/site-packages/pandas/core/frame.py\u001b[0m in \u001b[0;36m__getitem__\u001b[0;34m(self, key)\u001b[0m\n\u001b[1;32m   2900\u001b[0m             \u001b[0;32mif\u001b[0m \u001b[0mself\u001b[0m\u001b[0;34m.\u001b[0m\u001b[0mcolumns\u001b[0m\u001b[0;34m.\u001b[0m\u001b[0mnlevels\u001b[0m \u001b[0;34m>\u001b[0m \u001b[0;36m1\u001b[0m\u001b[0;34m:\u001b[0m\u001b[0;34m\u001b[0m\u001b[0;34m\u001b[0m\u001b[0m\n\u001b[1;32m   2901\u001b[0m                 \u001b[0;32mreturn\u001b[0m \u001b[0mself\u001b[0m\u001b[0;34m.\u001b[0m\u001b[0m_getitem_multilevel\u001b[0m\u001b[0;34m(\u001b[0m\u001b[0mkey\u001b[0m\u001b[0;34m)\u001b[0m\u001b[0;34m\u001b[0m\u001b[0;34m\u001b[0m\u001b[0m\n\u001b[0;32m-> 2902\u001b[0;31m             \u001b[0mindexer\u001b[0m \u001b[0;34m=\u001b[0m \u001b[0mself\u001b[0m\u001b[0;34m.\u001b[0m\u001b[0mcolumns\u001b[0m\u001b[0;34m.\u001b[0m\u001b[0mget_loc\u001b[0m\u001b[0;34m(\u001b[0m\u001b[0mkey\u001b[0m\u001b[0;34m)\u001b[0m\u001b[0;34m\u001b[0m\u001b[0;34m\u001b[0m\u001b[0m\n\u001b[0m\u001b[1;32m   2903\u001b[0m             \u001b[0;32mif\u001b[0m \u001b[0mis_integer\u001b[0m\u001b[0;34m(\u001b[0m\u001b[0mindexer\u001b[0m\u001b[0;34m)\u001b[0m\u001b[0;34m:\u001b[0m\u001b[0;34m\u001b[0m\u001b[0;34m\u001b[0m\u001b[0m\n\u001b[1;32m   2904\u001b[0m                 \u001b[0mindexer\u001b[0m \u001b[0;34m=\u001b[0m \u001b[0;34m[\u001b[0m\u001b[0mindexer\u001b[0m\u001b[0;34m]\u001b[0m\u001b[0;34m\u001b[0m\u001b[0;34m\u001b[0m\u001b[0m\n",
      "\u001b[0;32m~/anaconda3/envs/kaggle-env/lib/python3.8/site-packages/pandas/core/indexes/base.py\u001b[0m in \u001b[0;36mget_loc\u001b[0;34m(self, key, method, tolerance)\u001b[0m\n\u001b[1;32m   2895\u001b[0m                 \u001b[0;32mreturn\u001b[0m \u001b[0mself\u001b[0m\u001b[0;34m.\u001b[0m\u001b[0m_engine\u001b[0m\u001b[0;34m.\u001b[0m\u001b[0mget_loc\u001b[0m\u001b[0;34m(\u001b[0m\u001b[0mcasted_key\u001b[0m\u001b[0;34m)\u001b[0m\u001b[0;34m\u001b[0m\u001b[0;34m\u001b[0m\u001b[0m\n\u001b[1;32m   2896\u001b[0m             \u001b[0;32mexcept\u001b[0m \u001b[0mKeyError\u001b[0m \u001b[0;32mas\u001b[0m \u001b[0merr\u001b[0m\u001b[0;34m:\u001b[0m\u001b[0;34m\u001b[0m\u001b[0;34m\u001b[0m\u001b[0m\n\u001b[0;32m-> 2897\u001b[0;31m                 \u001b[0;32mraise\u001b[0m \u001b[0mKeyError\u001b[0m\u001b[0;34m(\u001b[0m\u001b[0mkey\u001b[0m\u001b[0;34m)\u001b[0m \u001b[0;32mfrom\u001b[0m \u001b[0merr\u001b[0m\u001b[0;34m\u001b[0m\u001b[0;34m\u001b[0m\u001b[0m\n\u001b[0m\u001b[1;32m   2898\u001b[0m \u001b[0;34m\u001b[0m\u001b[0m\n\u001b[1;32m   2899\u001b[0m         \u001b[0;32mif\u001b[0m \u001b[0mtolerance\u001b[0m \u001b[0;32mis\u001b[0m \u001b[0;32mnot\u001b[0m \u001b[0;32mNone\u001b[0m\u001b[0;34m:\u001b[0m\u001b[0;34m\u001b[0m\u001b[0;34m\u001b[0m\u001b[0m\n",
      "\u001b[0;31mKeyError\u001b[0m: ('Pclass', 'Sex')"
     ]
    }
   ],
   "source": [
    "encoded_cols = ohe_estimator.fit_transform(base_train['Pclass', 'Sex'])\n",
    "encoded_cols_df = pd.DataFrame(encoded_cols, index=base_train.index)\n",
    "enocded_cols_df.head()"
   ]
  },
  {
   "cell_type": "code",
   "execution_count": 48,
   "metadata": {},
   "outputs": [
    {
     "data": {
      "text/plain": [
       "(891, 5)"
      ]
     },
     "execution_count": 48,
     "metadata": {},
     "output_type": "execute_result"
    }
   ],
   "source": [
    "base_train.shape"
   ]
  },
  {
   "cell_type": "code",
   "execution_count": null,
   "metadata": {},
   "outputs": [],
   "source": [
    "base_train.drop('PassengerId', axis=1, inplace=True)\n",
    "base_train = pd.get_dummies(base_train, columns=['Pclass', 'Sex'], drop_first=True)"
   ]
  },
  {
   "cell_type": "markdown",
   "metadata": {},
   "source": [
    "From the above output, I truly did want to use onehot encoding for its ability to be stuck inside of a sklearn pipeline, but I'm finding my skill level is not quite at that level yet. Working through more of these problems on my own as well as working with people more familiar with this technology than myself would be incredibly useful in my growth as a data scientist."
   ]
  },
  {
   "cell_type": "markdown",
   "metadata": {},
   "source": [
    "[Referencing this notebook](https://www.kaggle.com/theblackmamba31/voting-classifier-on-titanic), it seems like I can drop the passenger id on the training data and keep the passenger id ok in the test data to pass it through a logistic regression function. Let's see what we can do here."
   ]
  },
  {
   "cell_type": "code",
   "execution_count": 74,
   "metadata": {},
   "outputs": [
    {
     "data": {
      "text/html": [
       "<div>\n",
       "<style scoped>\n",
       "    .dataframe tbody tr th:only-of-type {\n",
       "        vertical-align: middle;\n",
       "    }\n",
       "\n",
       "    .dataframe tbody tr th {\n",
       "        vertical-align: top;\n",
       "    }\n",
       "\n",
       "    .dataframe thead th {\n",
       "        text-align: right;\n",
       "    }\n",
       "</style>\n",
       "<table border=\"1\" class=\"dataframe\">\n",
       "  <thead>\n",
       "    <tr style=\"text-align: right;\">\n",
       "      <th></th>\n",
       "      <th>Survived</th>\n",
       "      <th>Age</th>\n",
       "      <th>Pclass_2</th>\n",
       "      <th>Pclass_3</th>\n",
       "      <th>Sex_male</th>\n",
       "    </tr>\n",
       "  </thead>\n",
       "  <tbody>\n",
       "    <tr>\n",
       "      <th>0</th>\n",
       "      <td>0</td>\n",
       "      <td>22.0</td>\n",
       "      <td>0</td>\n",
       "      <td>1</td>\n",
       "      <td>1</td>\n",
       "    </tr>\n",
       "    <tr>\n",
       "      <th>1</th>\n",
       "      <td>1</td>\n",
       "      <td>38.0</td>\n",
       "      <td>0</td>\n",
       "      <td>0</td>\n",
       "      <td>0</td>\n",
       "    </tr>\n",
       "    <tr>\n",
       "      <th>2</th>\n",
       "      <td>1</td>\n",
       "      <td>26.0</td>\n",
       "      <td>0</td>\n",
       "      <td>1</td>\n",
       "      <td>0</td>\n",
       "    </tr>\n",
       "    <tr>\n",
       "      <th>3</th>\n",
       "      <td>1</td>\n",
       "      <td>35.0</td>\n",
       "      <td>0</td>\n",
       "      <td>0</td>\n",
       "      <td>0</td>\n",
       "    </tr>\n",
       "    <tr>\n",
       "      <th>4</th>\n",
       "      <td>0</td>\n",
       "      <td>35.0</td>\n",
       "      <td>0</td>\n",
       "      <td>1</td>\n",
       "      <td>1</td>\n",
       "    </tr>\n",
       "  </tbody>\n",
       "</table>\n",
       "</div>"
      ],
      "text/plain": [
       "   Survived   Age  Pclass_2  Pclass_3  Sex_male\n",
       "0         0  22.0         0         1         1\n",
       "1         1  38.0         0         0         0\n",
       "2         1  26.0         0         1         0\n",
       "3         1  35.0         0         0         0\n",
       "4         0  35.0         0         1         1"
      ]
     },
     "execution_count": 74,
     "metadata": {},
     "output_type": "execute_result"
    }
   ],
   "source": [
    "# base_train.drop('PassengerId', axis=1, inplace=True)\n",
    "base_train.head()"
   ]
  },
  {
   "cell_type": "markdown",
   "metadata": {},
   "source": [
    "## Cleaning up our test data\n",
    "These steps that we've put into cleaning up the training data will also need to be put into cleaning up the test data as well. Usually a pipeline would make this much easier on us, but unfortunately my skill level isn't at that level yet."
   ]
  },
  {
   "cell_type": "code",
   "execution_count": 76,
   "metadata": {},
   "outputs": [
    {
     "data": {
      "text/plain": [
       "Index(['PassengerId', 'Pclass', 'Name', 'Sex', 'Age', 'SibSp', 'Parch',\n",
       "       'Ticket', 'Fare', 'Cabin', 'Embarked'],\n",
       "      dtype='object')"
      ]
     },
     "execution_count": 76,
     "metadata": {},
     "output_type": "execute_result"
    }
   ],
   "source": [
    "test.columns"
   ]
  },
  {
   "cell_type": "code",
   "execution_count": null,
   "metadata": {},
   "outputs": [],
   "source": []
  },
  {
   "cell_type": "code",
   "execution_count": 68,
   "metadata": {},
   "outputs": [],
   "source": [
    "base_test = test.drop(['SibSp', 'Parch', 'Ticket', 'Fare', 'Cabin', 'Embarked', 'Name'], axis=1)"
   ]
  },
  {
   "cell_type": "code",
   "execution_count": 69,
   "metadata": {},
   "outputs": [],
   "source": [
    "base_test['Age'] = imputer.fit_transform(base_test['Age'].values.reshape(-1, 1))"
   ]
  },
  {
   "cell_type": "code",
   "execution_count": 71,
   "metadata": {},
   "outputs": [],
   "source": [
    "base_test = pd.get_dummies(base_test, columns=['Pclass', 'Sex'], drop_first=True)"
   ]
  },
  {
   "cell_type": "code",
   "execution_count": 75,
   "metadata": {},
   "outputs": [
    {
     "data": {
      "text/html": [
       "<div>\n",
       "<style scoped>\n",
       "    .dataframe tbody tr th:only-of-type {\n",
       "        vertical-align: middle;\n",
       "    }\n",
       "\n",
       "    .dataframe tbody tr th {\n",
       "        vertical-align: top;\n",
       "    }\n",
       "\n",
       "    .dataframe thead th {\n",
       "        text-align: right;\n",
       "    }\n",
       "</style>\n",
       "<table border=\"1\" class=\"dataframe\">\n",
       "  <thead>\n",
       "    <tr style=\"text-align: right;\">\n",
       "      <th></th>\n",
       "      <th>PassengerId</th>\n",
       "      <th>Age</th>\n",
       "      <th>Pclass_2</th>\n",
       "      <th>Pclass_3</th>\n",
       "      <th>Sex_male</th>\n",
       "    </tr>\n",
       "  </thead>\n",
       "  <tbody>\n",
       "    <tr>\n",
       "      <th>0</th>\n",
       "      <td>892</td>\n",
       "      <td>34.5</td>\n",
       "      <td>0</td>\n",
       "      <td>1</td>\n",
       "      <td>1</td>\n",
       "    </tr>\n",
       "    <tr>\n",
       "      <th>1</th>\n",
       "      <td>893</td>\n",
       "      <td>47.0</td>\n",
       "      <td>0</td>\n",
       "      <td>1</td>\n",
       "      <td>0</td>\n",
       "    </tr>\n",
       "    <tr>\n",
       "      <th>2</th>\n",
       "      <td>894</td>\n",
       "      <td>62.0</td>\n",
       "      <td>1</td>\n",
       "      <td>0</td>\n",
       "      <td>1</td>\n",
       "    </tr>\n",
       "    <tr>\n",
       "      <th>3</th>\n",
       "      <td>895</td>\n",
       "      <td>27.0</td>\n",
       "      <td>0</td>\n",
       "      <td>1</td>\n",
       "      <td>1</td>\n",
       "    </tr>\n",
       "    <tr>\n",
       "      <th>4</th>\n",
       "      <td>896</td>\n",
       "      <td>22.0</td>\n",
       "      <td>0</td>\n",
       "      <td>1</td>\n",
       "      <td>0</td>\n",
       "    </tr>\n",
       "  </tbody>\n",
       "</table>\n",
       "</div>"
      ],
      "text/plain": [
       "   PassengerId   Age  Pclass_2  Pclass_3  Sex_male\n",
       "0          892  34.5         0         1         1\n",
       "1          893  47.0         0         1         0\n",
       "2          894  62.0         1         0         1\n",
       "3          895  27.0         0         1         1\n",
       "4          896  22.0         0         1         0"
      ]
     },
     "execution_count": 75,
     "metadata": {},
     "output_type": "execute_result"
    }
   ],
   "source": [
    "base_test.head()"
   ]
  },
  {
   "cell_type": "code",
   "execution_count": 73,
   "metadata": {},
   "outputs": [
    {
     "data": {
      "text/plain": [
       "Index(['PassengerId', 'Age', 'Pclass_2', 'Pclass_3', 'Sex_male'], dtype='object')"
      ]
     },
     "execution_count": 73,
     "metadata": {},
     "output_type": "execute_result"
    }
   ],
   "source": [
    "base_test.columns"
   ]
  },
  {
   "cell_type": "markdown",
   "metadata": {},
   "source": [
    "## Fitting the logistic regression classifier\n",
    "With the data cleaned as desired (in particular keeping the cleaning methodology consistent in case errors arise so we can easily backtrack and correct), we're ready to fit the model and submit our results to kaggle."
   ]
  },
  {
   "cell_type": "code",
   "execution_count": 98,
   "metadata": {},
   "outputs": [],
   "source": [
    "lr = LogisticRegression()\n",
    "lr.fit(base_train[['Age', 'Pclass_2', 'Pclass_3', 'Sex_male']].values, base_train[['Survived']].values.ravel())\n",
    "predictions = lr.predict(base_train[['Age', 'Pclass_2', 'Pclass_3', 'Sex_male']].values)"
   ]
  },
  {
   "cell_type": "code",
   "execution_count": 99,
   "metadata": {},
   "outputs": [
    {
     "data": {
      "text/plain": [
       "array([0, 1, 1, 1, 0, 0, 0, 0, 1, 1, 1, 1, 0, 0, 1, 1, 0, 0, 1, 1, 0, 0,\n",
       "       1, 0, 1, 0, 0, 1, 1, 0, 0, 1, 1, 0, 0, 0, 0, 0, 1, 1, 0, 1, 0, 1,\n",
       "       1, 0, 0, 1, 0, 1, 0, 0, 1, 1, 0, 0, 1, 0, 1, 0, 0, 1, 0, 0, 0, 0,\n",
       "       1, 0, 1, 0, 0, 1, 0, 0, 0, 0, 0, 0, 0, 1, 0, 0, 1, 0, 1, 1, 0, 0,\n",
       "       1, 0, 0, 0, 0, 0, 0, 0, 0, 1, 1, 0, 1, 0, 1, 0, 0, 0, 1, 0, 0, 1,\n",
       "       0, 1, 0, 1, 1, 0, 0, 0, 1, 1, 0, 0, 0, 1, 0, 0, 0, 0, 1, 0, 0, 0,\n",
       "       0, 1, 0, 0, 1, 0, 0, 1, 1, 1, 1, 0, 0, 0, 0, 1, 0, 0, 0, 1, 0, 0,\n",
       "       0, 0, 1, 0, 0, 0, 0, 1, 0, 0, 0, 0, 1, 0, 0, 0, 0, 0, 1, 0, 0, 0,\n",
       "       0, 1, 0, 0, 1, 0, 0, 0, 1, 0, 1, 0, 0, 0, 1, 0, 1, 0, 1, 1, 0, 0,\n",
       "       1, 1, 0, 0, 0, 0, 0, 1, 0, 0, 1, 0, 0, 1, 0, 0, 0, 1, 1, 0, 1, 0,\n",
       "       0, 0, 0, 0, 0, 0, 0, 0, 0, 1, 1, 0, 0, 1, 0, 1, 0, 1, 0, 0, 1, 1,\n",
       "       0, 0, 0, 0, 1, 1, 0, 0, 0, 1, 0, 0, 0, 1, 1, 1, 1, 1, 0, 0, 0, 0,\n",
       "       1, 0, 0, 0, 1, 1, 0, 0, 1, 0, 1, 1, 0, 0, 0, 1, 0, 0, 0, 0, 0, 0,\n",
       "       0, 0, 0, 1, 1, 1, 0, 1, 0, 0, 0, 1, 0, 1, 1, 0, 0, 1, 0, 1, 1, 1,\n",
       "       0, 1, 1, 1, 1, 0, 0, 1, 1, 0, 1, 1, 0, 0, 1, 1, 0, 1, 0, 1, 1, 1,\n",
       "       1, 0, 0, 0, 1, 0, 0, 1, 0, 0, 0, 1, 0, 0, 0, 1, 1, 1, 0, 0, 0, 0,\n",
       "       0, 0, 0, 0, 1, 1, 1, 1, 0, 0, 0, 0, 0, 0, 1, 1, 1, 1, 1, 0, 0, 1,\n",
       "       1, 1, 1, 0, 0, 0, 1, 1, 0, 1, 0, 0, 0, 1, 0, 1, 0, 0, 0, 1, 1, 0,\n",
       "       1, 0, 0, 1, 0, 0, 1, 0, 1, 0, 0, 0, 0, 1, 0, 0, 1, 0, 0, 1, 1, 1,\n",
       "       0, 1, 0, 0, 0, 1, 0, 0, 1, 1, 0, 0, 0, 1, 1, 0, 0, 1, 1, 1, 0, 0,\n",
       "       1, 0, 0, 1, 0, 1, 1, 0, 1, 0, 0, 0, 0, 0, 0, 0, 0, 1, 1, 0, 0, 0,\n",
       "       0, 0, 0, 0, 0, 0, 0, 1, 0, 0, 1, 1, 1, 0, 0, 0, 0, 1, 0, 0, 0, 0,\n",
       "       1, 1, 1, 0, 0, 0, 0, 0, 0, 0, 0, 0, 1, 0, 1, 0, 0, 1, 1, 0, 1, 1,\n",
       "       1, 0, 0, 0, 0, 0, 0, 1, 0, 0, 1, 0, 1, 0, 1, 0, 0, 1, 0, 0, 1, 0,\n",
       "       0, 0, 1, 0, 0, 1, 1, 1, 0, 1, 0, 1, 1, 1, 1, 0, 0, 0, 1, 0, 0, 0,\n",
       "       1, 0, 0, 0, 1, 0, 1, 0, 1, 1, 0, 0, 0, 0, 1, 0, 0, 1, 0, 0, 0, 1,\n",
       "       0, 1, 0, 0, 1, 1, 1, 0, 1, 1, 0, 0, 0, 1, 0, 0, 0, 0, 0, 1, 0, 1,\n",
       "       0, 0, 1, 0, 0, 0, 1, 0, 0, 0, 0, 0, 0, 0, 1, 1, 0, 0, 1, 0, 0, 1,\n",
       "       0, 1, 1, 0, 0, 0, 0, 0, 0, 0, 0, 1, 0, 0, 0, 0, 0, 0, 1, 1, 0, 0,\n",
       "       0, 0, 0, 1, 1, 0, 1, 0, 0, 0, 0, 1, 0, 1, 0, 1, 1, 0, 0, 1, 0, 0,\n",
       "       0, 0, 0, 0, 0, 0, 0, 0, 0, 1, 1, 0, 0, 0, 0, 0, 0, 1, 0, 0, 1, 0,\n",
       "       0, 0, 0, 0, 0, 0, 0, 1, 0, 1, 0, 0, 0, 0, 0, 1, 0, 0, 1, 0, 1, 0,\n",
       "       0, 0, 1, 0, 1, 0, 1, 0, 0, 0, 0, 0, 1, 1, 0, 0, 1, 0, 0, 0, 0, 0,\n",
       "       1, 1, 0, 1, 1, 0, 0, 0, 0, 0, 0, 0, 0, 0, 0, 0, 1, 0, 0, 0, 0, 1,\n",
       "       1, 0, 1, 0, 0, 0, 1, 0, 0, 0, 0, 1, 0, 0, 0, 1, 0, 1, 0, 1, 0, 0,\n",
       "       0, 0, 1, 0, 1, 0, 0, 1, 0, 1, 1, 1, 0, 0, 0, 0, 1, 0, 0, 0, 0, 0,\n",
       "       1, 0, 0, 0, 1, 1, 0, 1, 0, 1, 1, 0, 0, 0, 0, 1, 0, 1, 0, 0, 0, 1,\n",
       "       0, 0, 1, 0, 0, 0, 1, 0, 0, 1, 0, 0, 0, 0, 0, 1, 1, 0, 0, 0, 0, 1,\n",
       "       0, 0, 0, 0, 0, 0, 1, 0, 0, 0, 0, 0, 0, 1, 0, 0, 1, 1, 1, 1, 1, 0,\n",
       "       1, 0, 0, 0, 1, 1, 0, 1, 1, 0, 0, 0, 0, 1, 0, 0, 1, 1, 0, 0, 0, 1,\n",
       "       1, 0, 1, 0, 0, 0, 0, 1, 1, 0, 0])"
      ]
     },
     "execution_count": 99,
     "metadata": {},
     "output_type": "execute_result"
    }
   ],
   "source": [
    "predictions"
   ]
  },
  {
   "cell_type": "code",
   "execution_count": 95,
   "metadata": {},
   "outputs": [
    {
     "data": {
      "text/html": [
       "<div>\n",
       "<style scoped>\n",
       "    .dataframe tbody tr th:only-of-type {\n",
       "        vertical-align: middle;\n",
       "    }\n",
       "\n",
       "    .dataframe tbody tr th {\n",
       "        vertical-align: top;\n",
       "    }\n",
       "\n",
       "    .dataframe thead th {\n",
       "        text-align: right;\n",
       "    }\n",
       "</style>\n",
       "<table border=\"1\" class=\"dataframe\">\n",
       "  <thead>\n",
       "    <tr style=\"text-align: right;\">\n",
       "      <th></th>\n",
       "      <th>PassengerId</th>\n",
       "      <th>Age</th>\n",
       "      <th>Pclass_2</th>\n",
       "      <th>Pclass_3</th>\n",
       "      <th>Sex_male</th>\n",
       "    </tr>\n",
       "  </thead>\n",
       "  <tbody>\n",
       "    <tr>\n",
       "      <th>0</th>\n",
       "      <td>892</td>\n",
       "      <td>34.5</td>\n",
       "      <td>0</td>\n",
       "      <td>1</td>\n",
       "      <td>1</td>\n",
       "    </tr>\n",
       "    <tr>\n",
       "      <th>1</th>\n",
       "      <td>893</td>\n",
       "      <td>47.0</td>\n",
       "      <td>0</td>\n",
       "      <td>1</td>\n",
       "      <td>0</td>\n",
       "    </tr>\n",
       "    <tr>\n",
       "      <th>2</th>\n",
       "      <td>894</td>\n",
       "      <td>62.0</td>\n",
       "      <td>1</td>\n",
       "      <td>0</td>\n",
       "      <td>1</td>\n",
       "    </tr>\n",
       "    <tr>\n",
       "      <th>3</th>\n",
       "      <td>895</td>\n",
       "      <td>27.0</td>\n",
       "      <td>0</td>\n",
       "      <td>1</td>\n",
       "      <td>1</td>\n",
       "    </tr>\n",
       "    <tr>\n",
       "      <th>4</th>\n",
       "      <td>896</td>\n",
       "      <td>22.0</td>\n",
       "      <td>0</td>\n",
       "      <td>1</td>\n",
       "      <td>0</td>\n",
       "    </tr>\n",
       "  </tbody>\n",
       "</table>\n",
       "</div>"
      ],
      "text/plain": [
       "   PassengerId   Age  Pclass_2  Pclass_3  Sex_male\n",
       "0          892  34.5         0         1         1\n",
       "1          893  47.0         0         1         0\n",
       "2          894  62.0         1         0         1\n",
       "3          895  27.0         0         1         1\n",
       "4          896  22.0         0         1         0"
      ]
     },
     "execution_count": 95,
     "metadata": {},
     "output_type": "execute_result"
    }
   ],
   "source": [
    "base_test.head()"
   ]
  },
  {
   "cell_type": "code",
   "execution_count": 100,
   "metadata": {},
   "outputs": [
    {
     "data": {
      "text/plain": [
       "0.797979797979798"
      ]
     },
     "execution_count": 100,
     "metadata": {},
     "output_type": "execute_result"
    }
   ],
   "source": [
    "accuracy_score(base_train['Survived'].values, predictions)"
   ]
  },
  {
   "cell_type": "code",
   "execution_count": 101,
   "metadata": {},
   "outputs": [],
   "source": [
    "predictions1 = lr.predict(base_test[['Age', 'Pclass_2', 'Pclass_3', 'Sex_male']].values)"
   ]
  },
  {
   "cell_type": "code",
   "execution_count": 102,
   "metadata": {},
   "outputs": [
    {
     "data": {
      "text/plain": [
       "array([0, 0, 0, 0, 1, 0, 1, 0, 1, 0, 0, 0, 1, 0, 1, 1, 0, 0, 1, 0, 0, 0,\n",
       "       1, 1, 1, 0, 1, 0, 0, 0, 0, 0, 1, 1, 0, 0, 1, 1, 0, 0, 0, 0, 0, 1,\n",
       "       1, 0, 0, 0, 1, 1, 1, 0, 1, 1, 0, 0, 0, 0, 0, 1, 0, 0, 0, 1, 1, 1,\n",
       "       1, 0, 0, 1, 1, 0, 1, 0, 1, 0, 0, 1, 0, 1, 0, 0, 0, 0, 0, 0, 1, 1,\n",
       "       1, 0, 1, 0, 1, 0, 1, 0, 1, 0, 1, 0, 1, 0, 0, 0, 1, 0, 0, 0, 0, 0,\n",
       "       0, 1, 1, 1, 1, 0, 0, 1, 0, 1, 1, 0, 1, 0, 0, 1, 0, 1, 0, 0, 0, 0,\n",
       "       1, 0, 0, 0, 0, 0, 1, 0, 1, 1, 0, 0, 0, 0, 0, 0, 0, 0, 1, 0, 0, 1,\n",
       "       0, 0, 1, 1, 0, 1, 1, 0, 1, 0, 0, 1, 0, 0, 1, 1, 0, 0, 0, 0, 0, 1,\n",
       "       1, 0, 1, 1, 0, 0, 1, 0, 1, 0, 1, 0, 1, 0, 0, 0, 0, 0, 0, 0, 1, 1,\n",
       "       0, 1, 1, 0, 0, 1, 0, 0, 1, 0, 1, 0, 0, 0, 0, 1, 0, 0, 1, 0, 1, 0,\n",
       "       1, 0, 1, 0, 1, 1, 0, 1, 0, 0, 0, 1, 0, 0, 0, 0, 0, 0, 1, 1, 1, 1,\n",
       "       0, 0, 0, 0, 1, 0, 1, 1, 1, 0, 0, 0, 0, 0, 0, 0, 1, 0, 0, 0, 1, 1,\n",
       "       0, 0, 0, 0, 1, 0, 0, 0, 1, 1, 0, 1, 0, 0, 0, 0, 1, 0, 1, 1, 1, 0,\n",
       "       0, 1, 0, 0, 0, 1, 0, 0, 0, 0, 1, 0, 0, 0, 0, 0, 0, 0, 1, 1, 0, 0,\n",
       "       0, 0, 0, 0, 0, 0, 1, 1, 0, 0, 0, 0, 0, 0, 0, 0, 1, 0, 1, 0, 0, 0,\n",
       "       1, 0, 0, 1, 0, 0, 0, 0, 0, 0, 0, 0, 0, 1, 0, 1, 0, 0, 0, 1, 1, 0,\n",
       "       0, 0, 1, 0, 1, 0, 0, 1, 0, 1, 1, 0, 1, 1, 0, 1, 1, 0, 0, 1, 0, 0,\n",
       "       1, 1, 1, 0, 0, 0, 0, 0, 1, 1, 0, 1, 0, 0, 0, 0, 1, 1, 0, 0, 0, 1,\n",
       "       0, 1, 0, 0, 1, 0, 1, 1, 0, 0, 0, 0, 1, 1, 1, 1, 1, 0, 1, 0, 0, 0])"
      ]
     },
     "execution_count": 102,
     "metadata": {},
     "output_type": "execute_result"
    }
   ],
   "source": [
    "predictions1"
   ]
  },
  {
   "cell_type": "code",
   "execution_count": 106,
   "metadata": {},
   "outputs": [],
   "source": [
    "sub_csv_df = pd.DataFrame({'PassengerId': base_test.PassengerId, 'Survived': predictions1})"
   ]
  },
  {
   "cell_type": "code",
   "execution_count": 110,
   "metadata": {},
   "outputs": [],
   "source": [
    "sub_csv_df.to_csv('submission.csv', index=False)"
   ]
  },
  {
   "cell_type": "markdown",
   "metadata": {},
   "source": [
    "## Re-engineering this model\n",
    "With a basic model, I've gotten about 141st place tied with numerous others on this same problem and I'm hoping to continue developing these skills. Based on this problem as well as my goals, I should be able to squeeze out more accuracy by using cross-validation and hyper parameter tuning. Based on business requirements as stated by kaggle though, I would not attempt to try any other models. This problem based on the definition truly says logistic regression to me and trying any other models might things overly complex for the business use case. Let's see what we can get and I'll look into other competitions to sharpen my skills."
   ]
  },
  {
   "cell_type": "markdown",
   "metadata": {},
   "source": [
    "For tuning this model, I've got a few options on how best to proceed:\n",
    "1. GridSearchCV\n",
    "2. RandomSearchCV\n",
    "3. Hyperopt - Bayesian Hyper Parameter tuning\n",
    "\n",
    "Based on my current skillset, picking something like GridSearchCV or RandomSearchCV would give me a chance to start building my intuition for good hyper-parameter choices for different models. Once I move past these initial stages, I can start moving into more advanced options.\n",
    "\n",
    "I'll also mention that TPOT could be a choice for varying up my choice of model too, but that's wouldn't necessarily fit within the confines of the business use case depending. Let's build towards Hyperopt for iterative hyperparameter search and I can continue moving forward from here."
   ]
  },
  {
   "cell_type": "markdown",
   "metadata": {},
   "source": [
    "## Hyperparameters and Cross validation\n",
    "Starting out, I'm going to use GridSearchCV to see if I can squeeze any more performance out of my logistic regression model before moving on to another competition."
   ]
  },
  {
   "cell_type": "code",
   "execution_count": 112,
   "metadata": {},
   "outputs": [
    {
     "data": {
      "text/plain": [
       "{'C': 1.0,\n",
       " 'class_weight': None,\n",
       " 'dual': False,\n",
       " 'fit_intercept': True,\n",
       " 'intercept_scaling': 1,\n",
       " 'l1_ratio': None,\n",
       " 'max_iter': 100,\n",
       " 'multi_class': 'auto',\n",
       " 'n_jobs': None,\n",
       " 'penalty': 'l2',\n",
       " 'random_state': None,\n",
       " 'solver': 'lbfgs',\n",
       " 'tol': 0.0001,\n",
       " 'verbose': 0,\n",
       " 'warm_start': False}"
      ]
     },
     "execution_count": 112,
     "metadata": {},
     "output_type": "execute_result"
    }
   ],
   "source": [
    "lr.get_params()"
   ]
  },
  {
   "cell_type": "code",
   "execution_count": 113,
   "metadata": {},
   "outputs": [
    {
     "name": "stdout",
     "output_type": "stream",
     "text": [
      "# packages in environment at /home/messerb/anaconda3/envs/kaggle-env:\r\n",
      "#\r\n",
      "# Name                    Version                   Build  Channel\r\n",
      "_libgcc_mutex             0.1                 conda_forge    conda-forge\r\n",
      "_openmp_mutex             4.5                       1_gnu    conda-forge\r\n",
      "_py-xgboost-mutex         2.0                       cpu_0    conda-forge\r\n",
      "_tflow_select             2.3.0                       mkl    anaconda\r\n",
      "absl-py                   0.10.0                   py38_0    anaconda\r\n",
      "aiohttp                   3.6.3            py38h7b6447c_0    anaconda\r\n",
      "argon2-cffi               20.1.0           py38h25fe258_2    conda-forge\r\n",
      "astunparse                1.6.3                      py_0    anaconda\r\n",
      "async-timeout             3.0.1                    py38_0    anaconda\r\n",
      "async_generator           1.10                       py_0    conda-forge\r\n",
      "attrs                     20.2.0                     py_0    anaconda\r\n",
      "backcall                  0.2.0              pyh9f0ad1d_0    conda-forge\r\n",
      "backports                 1.0                        py_2    conda-forge\r\n",
      "backports.functools_lru_cache 1.6.1                      py_0    conda-forge\r\n",
      "blas                      1.0                         mkl    anaconda\r\n",
      "bleach                    3.2.1              pyh9f0ad1d_0    conda-forge\r\n",
      "blinker                   1.4                      py38_0    anaconda\r\n",
      "brotlipy                  0.7.0           py38h7b6447c_1000    anaconda\r\n",
      "c-ares                    1.16.1               h7b6447c_0    anaconda\r\n",
      "ca-certificates           2020.12.5            ha878542_0    conda-forge\r\n",
      "cachetools                4.1.1                      py_0    anaconda\r\n",
      "certifi                   2020.12.5        py38h578d9bd_0    conda-forge\r\n",
      "cffi                      1.14.3           py38he30daa8_0    anaconda\r\n",
      "chardet                   3.0.4                 py38_1003    anaconda\r\n",
      "click                     7.1.2                      py_0    anaconda\r\n",
      "cryptography              3.1.1            py38h1ba5d50_0    anaconda\r\n",
      "cudatoolkit               11.0.221             h6bb024c_0  \r\n",
      "cycler                    0.10.0                   py38_0    anaconda\r\n",
      "dbus                      1.13.18              hb2f20db_0    anaconda\r\n",
      "decorator                 4.4.2                      py_0    conda-forge\r\n",
      "defusedxml                0.6.0                      py_0    conda-forge\r\n",
      "entrypoints               0.3             pyhd8ed1ab_1003    conda-forge\r\n",
      "expat                     2.2.10               he6710b0_2    anaconda\r\n",
      "fontconfig                2.13.0               h9420a91_0    anaconda\r\n",
      "freetype                  2.10.4               h5ab3b9f_0    anaconda\r\n",
      "gast                      0.3.3                      py_0    anaconda\r\n",
      "glib                      2.56.2               hd408876_0    anaconda\r\n",
      "google-auth               1.22.1                     py_0    anaconda\r\n",
      "google-auth-oauthlib      0.4.1                      py_2    anaconda\r\n",
      "google-pasta              0.2.0                      py_0    anaconda\r\n",
      "grpcio                    1.31.0           py38hf8bcb03_0    anaconda\r\n",
      "gst-plugins-base          1.14.0               hbbd80ab_1    anaconda\r\n",
      "gstreamer                 1.14.0               hb453b48_1    anaconda\r\n",
      "h5py                      2.10.0           py38hd6299e0_1    anaconda\r\n",
      "hdf5                      1.10.6               hb1b8bf9_0    anaconda\r\n",
      "icu                       58.2                 he6710b0_3    anaconda\r\n",
      "idna                      2.10                       py_0    anaconda\r\n",
      "importlib-metadata        2.0.0                      py_1    anaconda\r\n",
      "importlib_metadata        2.0.0                         1    conda-forge\r\n",
      "intel-openmp              2020.2                      254    anaconda\r\n",
      "ipykernel                 5.4.2            py38h81c977d_0    conda-forge\r\n",
      "ipython                   7.19.0           py38h81c977d_0    conda-forge\r\n",
      "ipython_genutils          0.2.0                    py38_0    anaconda\r\n",
      "jedi                      0.17.2           py38h578d9bd_1    conda-forge\r\n",
      "jinja2                    2.11.2             pyh9f0ad1d_0    conda-forge\r\n",
      "joblib                    0.17.0                     py_0    anaconda\r\n",
      "jpeg                      9b                   habf39ab_1    anaconda\r\n",
      "jsonschema                3.2.0                      py_2    conda-forge\r\n",
      "jupyter_client            6.1.7                      py_0    conda-forge\r\n",
      "jupyter_core              4.6.3                    py38_0    anaconda\r\n",
      "jupyterlab_pygments       0.1.2              pyh9f0ad1d_0    conda-forge\r\n",
      "kaggle                    1.5.10                   pypi_0    pypi\r\n",
      "keras                     2.4.3                         0    anaconda\r\n",
      "keras-base                2.4.3                      py_0    anaconda\r\n",
      "keras-preprocessing       1.1.0                      py_1    anaconda\r\n",
      "kiwisolver                1.2.0            py38hfd86e86_0    anaconda\r\n",
      "lcms2                     2.11                 h396b838_0    anaconda\r\n",
      "ld_impl_linux-64          2.33.1               h53a641e_7    anaconda\r\n",
      "libedit                   3.1.20191231         h14c3975_1    anaconda\r\n",
      "libffi                    3.3                  he6710b0_2    anaconda\r\n",
      "libgcc-ng                 9.3.0               h5dbcf3e_17    conda-forge\r\n",
      "libgfortran-ng            7.3.0                hdf63c60_0    anaconda\r\n",
      "libgomp                   9.3.0               h5dbcf3e_17    conda-forge\r\n",
      "libpng                    1.6.37               hbc83047_0    anaconda\r\n",
      "libprotobuf               3.13.0.1             hd408876_0    anaconda\r\n",
      "libsodium                 1.0.18               h36c2ea0_1    conda-forge\r\n",
      "libstdcxx-ng              9.3.0               h2ae2ef3_17    conda-forge\r\n",
      "libtiff                   4.1.0                h2733197_1    anaconda\r\n",
      "libuuid                   1.0.3                h1bed415_2    anaconda\r\n",
      "libuv                     1.40.0               h7b6447c_0  \r\n",
      "libxcb                    1.14                 h7b6447c_0    anaconda\r\n",
      "libxgboost                1.3.0                h9c3ff4c_1    conda-forge\r\n",
      "libxml2                   2.9.10               hb55368b_3    anaconda\r\n",
      "lz4-c                     1.9.2                heb0550a_3    anaconda\r\n",
      "markdown                  3.3.2                    py38_0    anaconda\r\n",
      "markupsafe                1.1.1            py38h8df0ef7_2    conda-forge\r\n",
      "matplotlib                3.3.1                         0    anaconda\r\n",
      "matplotlib-base           3.3.1            py38h817c723_0    anaconda\r\n",
      "mistune                   0.8.4           py38h25fe258_1002    conda-forge\r\n",
      "mkl                       2020.2                      256    anaconda\r\n",
      "mkl-service               2.3.0            py38he904b0f_0  \r\n",
      "mkl_fft                   1.2.0            py38h23d657b_0  \r\n",
      "mkl_random                1.1.1            py38h0573a6f_0    anaconda\r\n",
      "multidict                 4.7.6            py38h7b6447c_1    anaconda\r\n",
      "nbclient                  0.5.1                      py_0    conda-forge\r\n",
      "nbconvert                 6.0.7            py38h578d9bd_3    conda-forge\r\n",
      "nbformat                  5.0.8                      py_0    conda-forge\r\n",
      "ncurses                   6.2                  he6710b0_1    anaconda\r\n",
      "nest-asyncio              1.4.3              pyhd8ed1ab_0    conda-forge\r\n",
      "ninja                     1.10.2           py38hff7bd54_0  \r\n",
      "notebook                  6.1.5            py38h578d9bd_0    conda-forge\r\n",
      "numpy                     1.19.2           py38h54aff64_0  \r\n",
      "numpy-base                1.19.2           py38hfa32c7d_0  \r\n",
      "oauthlib                  3.1.0                      py_0    anaconda\r\n",
      "olefile                   0.46                       py_0    anaconda\r\n",
      "openssl                   1.1.1i               h7f98852_0    conda-forge\r\n",
      "opt_einsum                3.1.0                      py_0    anaconda\r\n",
      "packaging                 20.8               pyhd3deb0d_0    conda-forge\r\n",
      "pandas                    1.1.3            py38he6710b0_0    anaconda\r\n",
      "pandoc                    2.11.3.1             h7f98852_0    conda-forge\r\n",
      "pandocfilters             1.4.2                      py_1    conda-forge\r\n",
      "parso                     0.7.1              pyh9f0ad1d_0    conda-forge\r\n",
      "patsy                     0.5.1                    py38_0    anaconda\r\n",
      "pcre                      8.44                 he6710b0_0    anaconda\r\n",
      "pexpect                   4.8.0              pyh9f0ad1d_2    conda-forge\r\n",
      "pickleshare               0.7.5                   py_1003    conda-forge\r\n",
      "pillow                    8.0.0            py38h9a89aac_0    anaconda\r\n",
      "pip                       20.3.3           py38h06a4308_0    main\r\n",
      "prometheus_client         0.9.0              pyhd3deb0d_0    conda-forge\r\n",
      "prompt-toolkit            3.0.8              pyha770c72_0    conda-forge\r\n",
      "protobuf                  3.13.0.1         py38he6710b0_1    anaconda\r\n",
      "ptyprocess                0.6.0                   py_1001    conda-forge\r\n",
      "py-xgboost                1.3.0            py38h578d9bd_1    conda-forge\r\n",
      "pyasn1                    0.4.8                      py_0    anaconda\r\n",
      "pyasn1-modules            0.2.8                      py_0    anaconda\r\n",
      "pycparser                 2.20                       py_2    anaconda\r\n",
      "pygments                  2.7.3              pyhd8ed1ab_0    conda-forge\r\n",
      "pyjwt                     1.7.1                    py38_0    anaconda\r\n",
      "pyopenssl                 19.1.0                     py_1    anaconda\r\n",
      "pyparsing                 2.4.7                      py_0    anaconda\r\n",
      "pyqt                      5.9.2            py38h05f1152_4    anaconda\r\n",
      "pyrsistent                0.17.3           py38h25fe258_1    conda-forge\r\n",
      "pysocks                   1.7.1                    py38_0    anaconda\r\n",
      "python                    3.8.5                h7579374_1    anaconda\r\n",
      "python-dateutil           2.8.1                      py_0    anaconda\r\n",
      "python-slugify            4.0.1                    pypi_0    pypi\r\n",
      "python_abi                3.8                      1_cp38    conda-forge\r\n",
      "pytorch                   1.7.1           py3.8_cuda11.0.221_cudnn8.0.5_0    pytorch\r\n",
      "pytz                      2020.1                     py_0    anaconda\r\n",
      "pyyaml                    5.3.1            py38h7b6447c_1    anaconda\r\n",
      "pyzmq                     20.0.0           py38h1d1b12f_1    conda-forge\r\n",
      "qt                        5.9.7                h5867ecd_1    anaconda\r\n",
      "readline                  8.0                  h7b6447c_0    anaconda\r\n",
      "requests                  2.24.0                     py_0    anaconda\r\n",
      "requests-oauthlib         1.3.0                      py_0    anaconda\r\n",
      "rsa                       4.6                        py_0    anaconda\r\n",
      "scikit-learn              0.23.2           py38h0573a6f_0    anaconda\r\n",
      "scipy                     1.5.2            py38h0b6359f_0  \r\n",
      "seaborn                   0.11.0                     py_0    anaconda\r\n",
      "send2trash                1.5.0                      py_0    conda-forge\r\n",
      "setuptools                50.3.0           py38hb0f4dca_1    anaconda\r\n",
      "sip                       4.19.24          py38he6710b0_0    anaconda\r\n",
      "six                       1.15.0                     py_0    anaconda\r\n",
      "sqlite                    3.33.0               h62c20be_0    anaconda\r\n",
      "statsmodels               0.12.0           py38h7b6447c_0    anaconda\r\n",
      "tensorboard               2.3.0              pyh4dce500_0  \r\n",
      "tensorboard-plugin-wit    1.6.0                      py_0    anaconda\r\n",
      "tensorflow                2.3.0           mkl_py38hd53216f_0  \r\n",
      "tensorflow-base           2.3.0           mkl_py38hac35e67_0    anaconda\r\n",
      "tensorflow-estimator      2.3.0              pyheb71bc4_0    anaconda\r\n",
      "termcolor                 1.1.0                    py38_1    anaconda\r\n",
      "terminado                 0.9.1            py38h32f6830_1    conda-forge\r\n",
      "testpath                  0.4.4                      py_0    conda-forge\r\n",
      "text-unidecode            1.3                      pypi_0    pypi\r\n",
      "threadpoolctl             2.1.0              pyh5ca1d4c_0    anaconda\r\n",
      "tk                        8.6.10               hbc83047_0    anaconda\r\n"
     ]
    },
    {
     "name": "stdout",
     "output_type": "stream",
     "text": [
      "tornado                   6.0.4            py38h7b6447c_1    anaconda\r\n",
      "tqdm                      4.54.1                   pypi_0    pypi\r\n",
      "traitlets                 5.0.5                      py_0    anaconda\r\n",
      "typing_extensions         3.7.4.3                    py_0  \r\n",
      "urllib3                   1.25.11                    py_0    anaconda\r\n",
      "wcwidth                   0.2.5              pyh9f0ad1d_2    conda-forge\r\n",
      "webencodings              0.5.1                      py_1    conda-forge\r\n",
      "werkzeug                  1.0.1                      py_0    anaconda\r\n",
      "wheel                     0.35.1                     py_0    anaconda\r\n",
      "wrapt                     1.12.1           py38h7b6447c_1    anaconda\r\n",
      "xgboost                   1.3.0            py38h709712a_1    conda-forge\r\n",
      "xz                        5.2.5                h7b6447c_0    anaconda\r\n",
      "yaml                      0.2.5                h7b6447c_0    anaconda\r\n",
      "yarl                      1.6.2            py38h7b6447c_0    anaconda\r\n",
      "zeromq                    4.3.3                h58526e2_3    conda-forge\r\n",
      "zipp                      3.3.1                      py_0    anaconda\r\n",
      "zlib                      1.2.11               h7b6447c_3    anaconda\r\n",
      "zstd                      1.4.4                h0b5b093_3    anaconda\r\n"
     ]
    }
   ],
   "source": [
    "!conda list"
   ]
  },
  {
   "cell_type": "markdown",
   "metadata": {},
   "source": [
    "Based on my scikit-learn version of 0.23.2 and this [documentation](https://scikit-learn.org/0.23//_downloads/scikit-learn-docs.pdf) outlining the different hyperparameters present on the LogisticRegression estimator, I'm going to scale the age data with StandardScaler to be on a similar scale as other categorical, one-hot encoded features. I'm on the fence if encoding the target value is needed since the \"Survived\" column is already in a binary state. Let's experiment with StandardScaler on age and using a GridSearchCV object nets us a better model in the long run first before considering that."
   ]
  },
  {
   "cell_type": "markdown",
   "metadata": {},
   "source": [
    "## Model take 2"
   ]
  },
  {
   "cell_type": "code",
   "execution_count": 114,
   "metadata": {},
   "outputs": [],
   "source": [
    "from sklearn.preprocessing import StandardScaler"
   ]
  },
  {
   "cell_type": "code",
   "execution_count": 115,
   "metadata": {},
   "outputs": [],
   "source": [
    "stand_scaler = StandardScaler()"
   ]
  },
  {
   "cell_type": "code",
   "execution_count": 116,
   "metadata": {},
   "outputs": [],
   "source": [
    "age_train = base_train.copy()\n",
    "age_test = base_test.copy()"
   ]
  },
  {
   "cell_type": "code",
   "execution_count": 117,
   "metadata": {},
   "outputs": [
    {
     "data": {
      "text/plain": [
       "<AxesSubplot:xlabel='Age', ylabel='Count'>"
      ]
     },
     "execution_count": 117,
     "metadata": {},
     "output_type": "execute_result"
    },
    {
     "data": {
      "image/png": "[encoded data removed]",
      "text/plain": [
       "<Figure size 432x288 with 1 Axes>"
      ]
     },
     "metadata": {
      "needs_background": "light"
     },
     "output_type": "display_data"
    }
   ],
   "source": [
    "age_train['Age'] = stand_scaler.fit_transform(age_train['Age'].values.reshape(-1, 1))\n",
    "sns.histplot(x='Age', data=age_train)"
   ]
  },
  {
   "cell_type": "markdown",
   "metadata": {},
   "source": [
    "In the name of transparency, I was fully expecting StandardScaler to trim this down between values 0 and 1 instead of just doing everything between -2 and 4. This seems like one of those things I can improve on over time though so I'll focus on improving in the long term instead of getting everything perfect now."
   ]
  },
  {
   "cell_type": "code",
   "execution_count": 120,
   "metadata": {},
   "outputs": [
    {
     "data": {
      "text/plain": [
       "<AxesSubplot:xlabel='Age', ylabel='Count'>"
      ]
     },
     "execution_count": 120,
     "metadata": {},
     "output_type": "execute_result"
    },
    {
     "data": {
      "image/png": "[encoded data removed]",
      "text/plain": [
       "<Figure size 432x288 with 1 Axes>"
      ]
     },
     "metadata": {
      "needs_background": "light"
     },
     "output_type": "display_data"
    }
   ],
   "source": [
    "age_test['Age'] = stand_scaler.fit_transform(age_test['Age'].values.reshape(-1, 1))\n",
    "sns.histplot(x='Age', data=age_test)"
   ]
  },
  {
   "cell_type": "code",
   "execution_count": 118,
   "metadata": {},
   "outputs": [],
   "source": [
    "lr1 = LogisticRegression()\n",
    "param_grid = {'solver': ['newton-cg', 'lbfgs', 'liblinear', 'sag', 'saga'], 'fit_intercept': [True, False]}\n",
    "grid_search = GridSearchCV(lr1, param_grid, scoring='accuracy', cv=6, refit=True)"
   ]
  },
  {
   "cell_type": "markdown",
   "metadata": {},
   "source": [
    "Based on the above options, I should get a best 1 out of 60 models based on 5 solvers, 2 fit_intercept parameters, and 6 folds used in cross-validation."
   ]
  },
  {
   "cell_type": "code",
   "execution_count": 130,
   "metadata": {},
   "outputs": [
    {
     "data": {
      "text/plain": [
       "GridSearchCV(cv=6, estimator=LogisticRegression(),\n",
       "             param_grid={'fit_intercept': [True, False],\n",
       "                         'solver': ['newton-cg', 'lbfgs', 'liblinear', 'sag',\n",
       "                                    'saga']},\n",
       "             scoring='accuracy')"
      ]
     },
     "execution_count": 130,
     "metadata": {},
     "output_type": "execute_result"
    }
   ],
   "source": [
    "grid_search.fit(age_train[['Age', 'Pclass_2', 'Pclass_3', 'Sex_male']].values, age_train[['Survived']].values.ravel())"
   ]
  },
  {
   "cell_type": "code",
   "execution_count": 131,
   "metadata": {},
   "outputs": [
    {
     "data": {
      "text/plain": [
       "GridSearchCV(cv=6, estimator=LogisticRegression(),\n",
       "             param_grid={'fit_intercept': [True, False],\n",
       "                         'solver': ['newton-cg', 'lbfgs', 'liblinear', 'sag',\n",
       "                                    'saga']},\n",
       "             scoring='accuracy')"
      ]
     },
     "execution_count": 131,
     "metadata": {},
     "output_type": "execute_result"
    }
   ],
   "source": [
    "grid_search"
   ]
  },
  {
   "cell_type": "code",
   "execution_count": 132,
   "metadata": {},
   "outputs": [
    {
     "data": {
      "text/plain": [
       "{'fit_intercept': True, 'solver': 'newton-cg'}"
      ]
     },
     "execution_count": 132,
     "metadata": {},
     "output_type": "execute_result"
    }
   ],
   "source": [
    "grid_search.best_params_"
   ]
  },
  {
   "cell_type": "code",
   "execution_count": 133,
   "metadata": {},
   "outputs": [
    {
     "data": {
      "text/plain": [
       "0.7934427716306911"
      ]
     },
     "execution_count": 133,
     "metadata": {},
     "output_type": "execute_result"
    }
   ],
   "source": [
    "grid_search.best_score_"
   ]
  },
  {
   "cell_type": "markdown",
   "metadata": {},
   "source": [
    "At this point, without moving into model stacking, ensembling, or any else that would jeopardize explainaiblity of our model, I think we've squeezed out as much performance as we can here. Comparing accuracy scores, using cross validation and grid searching across the parameters actually made the model model slightly worse. Given my background on this problem, it would be best to move onto other problems so I can start building a better intuition for different kinds of problems."
   ]
  },
  {
   "cell_type": "code",
   "execution_count": 134,
   "metadata": {},
   "outputs": [],
   "source": [
    "predictions1 = grid_search.predict(age_test[['Age', 'Pclass_2', 'Pclass_3', 'Sex_male']].values)"
   ]
  },
  {
   "cell_type": "code",
   "execution_count": 135,
   "metadata": {},
   "outputs": [],
   "source": [
    "sub_csv_df2 = pd.DataFrame({'PassengerId': age_test.PassengerId.values, 'Survived': predictions1})"
   ]
  },
  {
   "cell_type": "code",
   "execution_count": 136,
   "metadata": {},
   "outputs": [],
   "source": [
    "sub_csv_df2.to_csv('submission2.csv', index=False)"
   ]
  },
  {
   "cell_type": "markdown",
   "metadata": {},
   "source": [
    "## Reflection\n",
    "Overall, I came into this problem having a good amount of background and was able to stretch my legs. I did scan over other competitors notebooks slightly, but moreso used it as a reference when I needed help rather than relying on their thoughts to get me through the process. Depending on a production use-case, this might be the best we can do. To better inform those results later on though, I'm planning to follow up with the IBM AI workflow certificate on coursera and really earn my right to work as a data scientist."
   ]
  },
  {
   "cell_type": "code",
   "execution_count": null,
   "metadata": {},
   "outputs": [],
   "source": []
  }
 ],
 "metadata": {
  "kernelspec": {
   "display_name": "Python 3",
   "language": "python",
   "name": "python3"
  },
  "language_info": {
   "codemirror_mode": {
    "name": "ipython",
    "version": 3
   },
   "file_extension": ".py",
   "mimetype": "text/x-python",
   "name": "python",
   "nbconvert_exporter": "python",
   "pygments_lexer": "ipython3",
   "version": "3.8.5"
  }
 },
 "nbformat": 4,
 "nbformat_minor": 4
}
