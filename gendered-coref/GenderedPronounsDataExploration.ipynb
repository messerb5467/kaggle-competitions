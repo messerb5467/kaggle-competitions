{
  "nbformat": 4,
  "nbformat_minor": 0,
  "metadata": {
    "colab": {
      "name": "GenderedPronounsDataExploration.ipynb",
      "provenance": [],
      "collapsed_sections": [],
      "authorship_tag": "ABX9TyMZwflXdO67uZQ9JTLpZP1g",
      "include_colab_link": true
    },
    "kernelspec": {
      "name": "python3",
      "display_name": "Python 3"
    },
    "language_info": {
      "name": "python"
    }
  },
  "cells": [
    {
      "cell_type": "markdown",
      "metadata": {
        "id": "view-in-github",
        "colab_type": "text"
      },
      "source": [
        "<a href=\"https://colab.research.google.com/github/messerb5467/kaggle-competitions/blob/main/gendered-coref/GenderedPronounsDataExploration.ipynb\" target=\"_parent\"><img src=\"https://colab.research.google.com/assets/colab-badge.svg\" alt=\"Open In Colab\"/></a>"
      ]
    },
    {
      "cell_type": "markdown",
      "metadata": {
        "id": "P4SBdUCJBnYy"
      },
      "source": [
        "# Overview\n",
        "In this notebook, I'm going to work throught the kaggle [gendered pronoun resolution competition](https://www.kaggle.com/c/gendered-pronoun-resolution/data). Motivations are that mostly for fun and learning, but fairness in AI is a very important topic, especially with the wake of numerous upsets I will leave to the reader to investigate more on their own.\n",
        "\n",
        "# Stepping into the problem\n",
        "\n",
        "Analyzing this from a very high level perspective, this is a very targeted problem that shouldn't require the use of multiple models arranged in a hierarchical or interlacing nature as I'm not trying to take the results of one model, say a voice synthesis focused model and translate that into something that a backend model, a natural language model, for further understanding of what's going on in my use case.\n",
        "\n",
        "Before I make any more judgements though, I really do need to bring in the dataset for analysis to understand precisely what model needs used. My initial thought based on the provided examples from the course overview page are that a bidirectional lstm could be very useful towards addressing this particular use case."
      ]
    },
    {
      "cell_type": "markdown",
      "metadata": {
        "id": "efvZPjgwfsuu"
      },
      "source": [
        "# Bringing in the data\n",
        "The data itself is available in a couple locations (the kaggle dashboard as well as a [linked github repo](https://github.com/google-research-datasets/gap-coreference)) and for ease of reproducibility, I'm going to focus on importing the data from the github repo using the below command."
      ]
    },
    {
      "cell_type": "code",
      "metadata": {
        "colab": {
          "base_uri": "https://localhost:8080/"
        },
        "id": "mf_es4nvfx9H",
        "outputId": "c8b17011-2474-44f2-ba41-e82b3291bab2"
      },
      "source": [
        "!git clone https://github.com/google-research-datasets/gap-coreference"
      ],
      "execution_count": 2,
      "outputs": [
        {
          "output_type": "stream",
          "text": [
            "Cloning into 'gap-coreference'...\n",
            "remote: Enumerating objects: 19, done.\u001b[K\n",
            "remote: Total 19 (delta 0), reused 0 (delta 0), pack-reused 19\u001b[K\n",
            "Unpacking objects: 100% (19/19), done.\n"
          ],
          "name": "stdout"
        }
      ]
    },
    {
      "cell_type": "markdown",
      "metadata": {
        "id": "x_G-tDdGgYYA"
      },
      "source": [
        "## Reviewing the data\n",
        "An initial look at the README.md provided in the github repo presupposes this as tab-separated values instead of the normal comma-separated values dataset, but overall does not provide any damper at really looking into this overall problem. It should be incredibly easy to actually get this thing imported, reviewed and cleaned.\n",
        "\n",
        "While I know that I eventually want to manipulate this in tensorflow, I just want to start by getting an idea of what this dataset looks like in pandas. If I were to scale this out or do this purely in tensorflow, I would rely on the Tensorflow datasets api to bring this in and clean and even Tensorflow Data validation to get a better look of what's going on inside of the data."
      ]
    },
    {
      "cell_type": "code",
      "metadata": {
        "id": "ahVRXct0iPzJ"
      },
      "source": [
        "import pandas as pd"
      ],
      "execution_count": 3,
      "outputs": []
    },
    {
      "cell_type": "code",
      "metadata": {
        "id": "aihdoM7SiR5h"
      },
      "source": [
        "df_train = pd.read_csv('gap-coreference/gap-development.tsv', sep='\\t')"
      ],
      "execution_count": 4,
      "outputs": []
    },
    {
      "cell_type": "code",
      "metadata": {
        "colab": {
          "base_uri": "https://localhost:8080/",
          "height": 683
        },
        "id": "TfBpHhAliiUr",
        "outputId": "69d54eca-d62b-48b4-e81b-1d812a0d4481"
      },
      "source": [
        "df_train.head()"
      ],
      "execution_count": 6,
      "outputs": [
        {
          "output_type": "execute_result",
          "data": {
            "text/html": [
              "<div>\n",
              "<style scoped>\n",
              "    .dataframe tbody tr th:only-of-type {\n",
              "        vertical-align: middle;\n",
              "    }\n",
              "\n",
              "    .dataframe tbody tr th {\n",
              "        vertical-align: top;\n",
              "    }\n",
              "\n",
              "    .dataframe thead th {\n",
              "        text-align: right;\n",
              "    }\n",
              "</style>\n",
              "<table border=\"1\" class=\"dataframe\">\n",
              "  <thead>\n",
              "    <tr style=\"text-align: right;\">\n",
              "      <th></th>\n",
              "      <th>ID</th>\n",
              "      <th>Text</th>\n",
              "      <th>Pronoun</th>\n",
              "      <th>Pronoun-offset</th>\n",
              "      <th>A</th>\n",
              "      <th>A-offset</th>\n",
              "      <th>A-coref</th>\n",
              "      <th>B</th>\n",
              "      <th>B-offset</th>\n",
              "      <th>B-coref</th>\n",
              "      <th>URL</th>\n",
              "    </tr>\n",
              "  </thead>\n",
              "  <tbody>\n",
              "    <tr>\n",
              "      <th>0</th>\n",
              "      <td>development-1</td>\n",
              "      <td>Zoe Telford -- played the police officer girlf...</td>\n",
              "      <td>her</td>\n",
              "      <td>274</td>\n",
              "      <td>Cheryl Cassidy</td>\n",
              "      <td>191</td>\n",
              "      <td>True</td>\n",
              "      <td>Pauline</td>\n",
              "      <td>207</td>\n",
              "      <td>False</td>\n",
              "      <td>http://en.wikipedia.org/wiki/List_of_Teachers_...</td>\n",
              "    </tr>\n",
              "    <tr>\n",
              "      <th>1</th>\n",
              "      <td>development-2</td>\n",
              "      <td>He grew up in Evanston, Illinois the second ol...</td>\n",
              "      <td>His</td>\n",
              "      <td>284</td>\n",
              "      <td>MacKenzie</td>\n",
              "      <td>228</td>\n",
              "      <td>True</td>\n",
              "      <td>Bernard Leach</td>\n",
              "      <td>251</td>\n",
              "      <td>False</td>\n",
              "      <td>http://en.wikipedia.org/wiki/Warren_MacKenzie</td>\n",
              "    </tr>\n",
              "    <tr>\n",
              "      <th>2</th>\n",
              "      <td>development-3</td>\n",
              "      <td>He had been reelected to Congress, but resigne...</td>\n",
              "      <td>his</td>\n",
              "      <td>265</td>\n",
              "      <td>Angeloz</td>\n",
              "      <td>173</td>\n",
              "      <td>False</td>\n",
              "      <td>De la Sota</td>\n",
              "      <td>246</td>\n",
              "      <td>True</td>\n",
              "      <td>http://en.wikipedia.org/wiki/Jos%C3%A9_Manuel_...</td>\n",
              "    </tr>\n",
              "    <tr>\n",
              "      <th>3</th>\n",
              "      <td>development-4</td>\n",
              "      <td>The current members of Crime have also perform...</td>\n",
              "      <td>his</td>\n",
              "      <td>321</td>\n",
              "      <td>Hell</td>\n",
              "      <td>174</td>\n",
              "      <td>False</td>\n",
              "      <td>Henry Rosenthal</td>\n",
              "      <td>336</td>\n",
              "      <td>True</td>\n",
              "      <td>http://en.wikipedia.org/wiki/Crime_(band)</td>\n",
              "    </tr>\n",
              "    <tr>\n",
              "      <th>4</th>\n",
              "      <td>development-5</td>\n",
              "      <td>Her Santa Fe Opera debut in 2005 was as Nuria ...</td>\n",
              "      <td>She</td>\n",
              "      <td>437</td>\n",
              "      <td>Kitty Oppenheimer</td>\n",
              "      <td>219</td>\n",
              "      <td>False</td>\n",
              "      <td>Rivera</td>\n",
              "      <td>294</td>\n",
              "      <td>True</td>\n",
              "      <td>http://en.wikipedia.org/wiki/Jessica_Rivera</td>\n",
              "    </tr>\n",
              "  </tbody>\n",
              "</table>\n",
              "</div>"
            ],
            "text/plain": [
              "              ID  ...                                                URL\n",
              "0  development-1  ...  http://en.wikipedia.org/wiki/List_of_Teachers_...\n",
              "1  development-2  ...      http://en.wikipedia.org/wiki/Warren_MacKenzie\n",
              "2  development-3  ...  http://en.wikipedia.org/wiki/Jos%C3%A9_Manuel_...\n",
              "3  development-4  ...          http://en.wikipedia.org/wiki/Crime_(band)\n",
              "4  development-5  ...        http://en.wikipedia.org/wiki/Jessica_Rivera\n",
              "\n",
              "[5 rows x 11 columns]"
            ]
          },
          "metadata": {},
          "execution_count": 6
        }
      ]
    },
    {
      "cell_type": "markdown",
      "metadata": {
        "id": "x8JAzkR0jb8A"
      },
      "source": [
        "Looking at the above data, I have some thoughts at really working through this data cleaning. Keep these thoughts in mind depending on how your data is made in production as you may have to recreate these exact steps when making the port over into your own data pipeline. Here's the steps in detail:\n",
        "\n",
        "1. Dropping the URL field - Without any more specific business context, I don't have much I can really do with this. Thus, let's get it out of the way.\n",
        "2. Understanding statistics of the different offset lengths into the text and tokenizing it - Sequence models like RNNs and LSTMs don't perform incredibly well when we need to perform long-range time dependencies. Normal is oftentimes described as 400-500+ and we can get through this issue by tokenizing the output to get rid of any filler words. You can also use an embedding for dimensionality reduction here (preferably pre-trained so we don't spend extra time wasting CPU cycles when bigger companies have already done this on massive datasets the likes of which you'll only see in something like an HPC or research environment), but I personally see this as more of a text-scanning problem than I do as something that would be solved by an embedding."
      ]
    },
    {
      "cell_type": "code",
      "metadata": {
        "id": "hhjnlh-ui05a"
      },
      "source": [
        "df_train = df_train.drop(columns=['URL'])"
      ],
      "execution_count": 7,
      "outputs": []
    },
    {
      "cell_type": "code",
      "metadata": {
        "colab": {
          "base_uri": "https://localhost:8080/",
          "height": 297
        },
        "id": "lIjqXpSHmBSB",
        "outputId": "fabcb6ab-59ea-40e0-b19e-91722bac0daa"
      },
      "source": [
        "df_train[['Pronoun-offset', 'A-offset', 'B-offset']].describe()"
      ],
      "execution_count": 8,
      "outputs": [
        {
          "output_type": "execute_result",
          "data": {
            "text/html": [
              "<div>\n",
              "<style scoped>\n",
              "    .dataframe tbody tr th:only-of-type {\n",
              "        vertical-align: middle;\n",
              "    }\n",
              "\n",
              "    .dataframe tbody tr th {\n",
              "        vertical-align: top;\n",
              "    }\n",
              "\n",
              "    .dataframe thead th {\n",
              "        text-align: right;\n",
              "    }\n",
              "</style>\n",
              "<table border=\"1\" class=\"dataframe\">\n",
              "  <thead>\n",
              "    <tr style=\"text-align: right;\">\n",
              "      <th></th>\n",
              "      <th>Pronoun-offset</th>\n",
              "      <th>A-offset</th>\n",
              "      <th>B-offset</th>\n",
              "    </tr>\n",
              "  </thead>\n",
              "  <tbody>\n",
              "    <tr>\n",
              "      <th>count</th>\n",
              "      <td>2000.000000</td>\n",
              "      <td>2000.00000</td>\n",
              "      <td>2000.000000</td>\n",
              "    </tr>\n",
              "    <tr>\n",
              "      <th>mean</th>\n",
              "      <td>324.963500</td>\n",
              "      <td>239.77800</td>\n",
              "      <td>300.535500</td>\n",
              "    </tr>\n",
              "    <tr>\n",
              "      <th>std</th>\n",
              "      <td>98.788591</td>\n",
              "      <td>111.15768</td>\n",
              "      <td>113.226357</td>\n",
              "    </tr>\n",
              "    <tr>\n",
              "      <th>min</th>\n",
              "      <td>3.000000</td>\n",
              "      <td>0.00000</td>\n",
              "      <td>16.000000</td>\n",
              "    </tr>\n",
              "    <tr>\n",
              "      <th>25%</th>\n",
              "      <td>274.000000</td>\n",
              "      <td>179.75000</td>\n",
              "      <td>237.000000</td>\n",
              "    </tr>\n",
              "    <tr>\n",
              "      <th>50%</th>\n",
              "      <td>316.000000</td>\n",
              "      <td>239.00000</td>\n",
              "      <td>294.000000</td>\n",
              "    </tr>\n",
              "    <tr>\n",
              "      <th>75%</th>\n",
              "      <td>370.000000</td>\n",
              "      <td>301.25000</td>\n",
              "      <td>358.000000</td>\n",
              "    </tr>\n",
              "    <tr>\n",
              "      <th>max</th>\n",
              "      <td>1135.000000</td>\n",
              "      <td>971.00000</td>\n",
              "      <td>1098.000000</td>\n",
              "    </tr>\n",
              "  </tbody>\n",
              "</table>\n",
              "</div>"
            ],
            "text/plain": [
              "       Pronoun-offset    A-offset     B-offset\n",
              "count     2000.000000  2000.00000  2000.000000\n",
              "mean       324.963500   239.77800   300.535500\n",
              "std         98.788591   111.15768   113.226357\n",
              "min          3.000000     0.00000    16.000000\n",
              "25%        274.000000   179.75000   237.000000\n",
              "50%        316.000000   239.00000   294.000000\n",
              "75%        370.000000   301.25000   358.000000\n",
              "max       1135.000000   971.00000  1098.000000"
            ]
          },
          "metadata": {},
          "execution_count": 8
        }
      ]
    },
    {
      "cell_type": "markdown",
      "metadata": {
        "id": "kRppCMdznQYZ"
      },
      "source": [
        "The above stats really push the limits on what we'd be able to address what an RNN or LSTM would be able to accomplish on their own. Let's review the structure of the data again as well as the overall relatedness of what we're trying to handle and we could still consider an embedding for our usecase even after dropping out unnecessary words.\n",
        "\n",
        "After looking over the dataset more, I wanted to expand on my choices of why to treat this as a text scanning problem over a choice to treat this as a text embedding problem. As shown [here](https://machinelearningmastery.com/what-are-word-embeddings/), text embeddings will produce a vectorized distance in multidimensional space and give you an overall idea of how the data is clustered within that space reminiscent of PCA or K-Means clustering. It is good to note that embeddings themselves are incredibly great at performing dimensionality reduction and I would highly encorage their use in a different set of problem, but this I still think is overall more accurately addressed as a text scanning problem where the model can make use of the antecedents for accurate classification."
      ]
    },
    {
      "cell_type": "markdown",
      "metadata": {
        "id": "Lc700NZ1tkSX"
      },
      "source": [
        "# Coming back to the modeling\n",
        "\n",
        "As mentioned in the project overview, our model needs to decide which of three results our model needs to produce (A, B, or neither). Let's provide a cleaned up dataset so we have something to talk to."
      ]
    },
    {
      "cell_type": "code",
      "metadata": {
        "id": "OLcWJW85miOb"
      },
      "source": [
        "df_train = df_train.drop(columns=['Pronoun-offset', 'A-offset', 'B-offset'])"
      ],
      "execution_count": 9,
      "outputs": []
    },
    {
      "cell_type": "code",
      "metadata": {
        "colab": {
          "base_uri": "https://localhost:8080/",
          "height": 204
        },
        "id": "21dX75INvEGh",
        "outputId": "30023fb4-5185-4b8f-940d-e16ac99d3ce7"
      },
      "source": [
        "df_train.head()"
      ],
      "execution_count": 10,
      "outputs": [
        {
          "output_type": "execute_result",
          "data": {
            "text/html": [
              "<div>\n",
              "<style scoped>\n",
              "    .dataframe tbody tr th:only-of-type {\n",
              "        vertical-align: middle;\n",
              "    }\n",
              "\n",
              "    .dataframe tbody tr th {\n",
              "        vertical-align: top;\n",
              "    }\n",
              "\n",
              "    .dataframe thead th {\n",
              "        text-align: right;\n",
              "    }\n",
              "</style>\n",
              "<table border=\"1\" class=\"dataframe\">\n",
              "  <thead>\n",
              "    <tr style=\"text-align: right;\">\n",
              "      <th></th>\n",
              "      <th>ID</th>\n",
              "      <th>Text</th>\n",
              "      <th>Pronoun</th>\n",
              "      <th>A</th>\n",
              "      <th>A-coref</th>\n",
              "      <th>B</th>\n",
              "      <th>B-coref</th>\n",
              "    </tr>\n",
              "  </thead>\n",
              "  <tbody>\n",
              "    <tr>\n",
              "      <th>0</th>\n",
              "      <td>development-1</td>\n",
              "      <td>Zoe Telford -- played the police officer girlf...</td>\n",
              "      <td>her</td>\n",
              "      <td>Cheryl Cassidy</td>\n",
              "      <td>True</td>\n",
              "      <td>Pauline</td>\n",
              "      <td>False</td>\n",
              "    </tr>\n",
              "    <tr>\n",
              "      <th>1</th>\n",
              "      <td>development-2</td>\n",
              "      <td>He grew up in Evanston, Illinois the second ol...</td>\n",
              "      <td>His</td>\n",
              "      <td>MacKenzie</td>\n",
              "      <td>True</td>\n",
              "      <td>Bernard Leach</td>\n",
              "      <td>False</td>\n",
              "    </tr>\n",
              "    <tr>\n",
              "      <th>2</th>\n",
              "      <td>development-3</td>\n",
              "      <td>He had been reelected to Congress, but resigne...</td>\n",
              "      <td>his</td>\n",
              "      <td>Angeloz</td>\n",
              "      <td>False</td>\n",
              "      <td>De la Sota</td>\n",
              "      <td>True</td>\n",
              "    </tr>\n",
              "    <tr>\n",
              "      <th>3</th>\n",
              "      <td>development-4</td>\n",
              "      <td>The current members of Crime have also perform...</td>\n",
              "      <td>his</td>\n",
              "      <td>Hell</td>\n",
              "      <td>False</td>\n",
              "      <td>Henry Rosenthal</td>\n",
              "      <td>True</td>\n",
              "    </tr>\n",
              "    <tr>\n",
              "      <th>4</th>\n",
              "      <td>development-5</td>\n",
              "      <td>Her Santa Fe Opera debut in 2005 was as Nuria ...</td>\n",
              "      <td>She</td>\n",
              "      <td>Kitty Oppenheimer</td>\n",
              "      <td>False</td>\n",
              "      <td>Rivera</td>\n",
              "      <td>True</td>\n",
              "    </tr>\n",
              "  </tbody>\n",
              "</table>\n",
              "</div>"
            ],
            "text/plain": [
              "              ID  ... B-coref\n",
              "0  development-1  ...   False\n",
              "1  development-2  ...   False\n",
              "2  development-3  ...    True\n",
              "3  development-4  ...    True\n",
              "4  development-5  ...    True\n",
              "\n",
              "[5 rows x 7 columns]"
            ]
          },
          "metadata": {},
          "execution_count": 10
        }
      ]
    },
    {
      "cell_type": "markdown",
      "metadata": {
        "id": "5FAfeKn9ve03"
      },
      "source": [
        "Above really focuses in on what we're trying to achieve overall in our modelling efforts. Make sure that a model scans a reduced text column, gives us an idea of whether the provided pronoun refers to A, B, or neither as described in the kaggle competition overview page.\n",
        "\n",
        "Given the number of specialist topics, I've been learning, I've not gotten much time into specifically modelling one given problem or another so this will be a healthy stretch for me as well.\n",
        "\n",
        "In particular, an LSTM cell will take a number of inputs as determined by the batch size we want to work with:\n",
        "\n",
        "![lstm-cell-state-description](https://drive.google.com/uc?export=view&id=1I2dgRZO_9DfiUpxG1io1fJ6-m_1mmpvj)\n",
        "\n",
        "and each token we use after data cleaning will be considered an input into this model."
      ]
    },
    {
      "cell_type": "markdown",
      "metadata": {
        "id": "IYD4kY2fr2B8"
      },
      "source": [
        "# Refining our idea of the model\n",
        "\n",
        "We've now figured out how we want to roughly handle the data inputs to the model and thus need to figure out what to do with the other data points. Remember that our model needs to produce a designation of which whether the pronoun coreferences A, B, or neither, which could be a C. In my mind, I'm really only looking to produce one of three at a given time, which I would then need to match my answer against as seen below. The tricky point for me is my first thought would be a many to one encoder-decoder architecture where the produced answer is compared against the true answer as part of a [custom loss function](https://neptune.ai/blog/keras-loss-functions).\n",
        "\n",
        "To clarify, let me show the exact set of data I'm referring to below."
      ]
    },
    {
      "cell_type": "code",
      "metadata": {
        "id": "AjG_oOqZvZzD",
        "colab": {
          "base_uri": "https://localhost:8080/",
          "height": 204
        },
        "outputId": "eae2d85c-b12c-4e0d-9d55-e10ec276d7ec"
      },
      "source": [
        "df_train[['Pronoun', 'A', 'A-coref', 'B', 'B-coref']].head()"
      ],
      "execution_count": 12,
      "outputs": [
        {
          "output_type": "execute_result",
          "data": {
            "text/html": [
              "<div>\n",
              "<style scoped>\n",
              "    .dataframe tbody tr th:only-of-type {\n",
              "        vertical-align: middle;\n",
              "    }\n",
              "\n",
              "    .dataframe tbody tr th {\n",
              "        vertical-align: top;\n",
              "    }\n",
              "\n",
              "    .dataframe thead th {\n",
              "        text-align: right;\n",
              "    }\n",
              "</style>\n",
              "<table border=\"1\" class=\"dataframe\">\n",
              "  <thead>\n",
              "    <tr style=\"text-align: right;\">\n",
              "      <th></th>\n",
              "      <th>Pronoun</th>\n",
              "      <th>A</th>\n",
              "      <th>A-coref</th>\n",
              "      <th>B</th>\n",
              "      <th>B-coref</th>\n",
              "    </tr>\n",
              "  </thead>\n",
              "  <tbody>\n",
              "    <tr>\n",
              "      <th>0</th>\n",
              "      <td>her</td>\n",
              "      <td>Cheryl Cassidy</td>\n",
              "      <td>True</td>\n",
              "      <td>Pauline</td>\n",
              "      <td>False</td>\n",
              "    </tr>\n",
              "    <tr>\n",
              "      <th>1</th>\n",
              "      <td>His</td>\n",
              "      <td>MacKenzie</td>\n",
              "      <td>True</td>\n",
              "      <td>Bernard Leach</td>\n",
              "      <td>False</td>\n",
              "    </tr>\n",
              "    <tr>\n",
              "      <th>2</th>\n",
              "      <td>his</td>\n",
              "      <td>Angeloz</td>\n",
              "      <td>False</td>\n",
              "      <td>De la Sota</td>\n",
              "      <td>True</td>\n",
              "    </tr>\n",
              "    <tr>\n",
              "      <th>3</th>\n",
              "      <td>his</td>\n",
              "      <td>Hell</td>\n",
              "      <td>False</td>\n",
              "      <td>Henry Rosenthal</td>\n",
              "      <td>True</td>\n",
              "    </tr>\n",
              "    <tr>\n",
              "      <th>4</th>\n",
              "      <td>She</td>\n",
              "      <td>Kitty Oppenheimer</td>\n",
              "      <td>False</td>\n",
              "      <td>Rivera</td>\n",
              "      <td>True</td>\n",
              "    </tr>\n",
              "  </tbody>\n",
              "</table>\n",
              "</div>"
            ],
            "text/plain": [
              "  Pronoun                  A  A-coref                B  B-coref\n",
              "0     her     Cheryl Cassidy     True          Pauline    False\n",
              "1     His          MacKenzie     True    Bernard Leach    False\n",
              "2     his            Angeloz    False       De la Sota     True\n",
              "3     his               Hell    False  Henry Rosenthal     True\n",
              "4     She  Kitty Oppenheimer    False           Rivera     True"
            ]
          },
          "metadata": {},
          "execution_count": 12
        }
      ]
    },
    {
      "cell_type": "markdown",
      "metadata": {
        "id": "7mi_xe6lxeVv"
      },
      "source": [
        "Having broken down the data this far, we'd want to focus in on how the decoder architecture is going to produce token(s) and then address this problem as appropriate. Keep in mind the model will have access to the pronoun under consideration, so the pronoun field actualy becomes redundant in our entire consideration. Thus, we drop the pronoun field and even the coreferential fields and treat the loss function as a low regular expression. If the produced answer is in A, that wins. In B, that wins. Else, we have neither."
      ]
    },
    {
      "cell_type": "code",
      "metadata": {
        "colab": {
          "base_uri": "https://localhost:8080/",
          "height": 204
        },
        "id": "fh0KIxcYwo1Z",
        "outputId": "73086fc1-aae0-45fe-f75e-538a8825675e"
      },
      "source": [
        "df_train[['A', 'B']].head()"
      ],
      "execution_count": 13,
      "outputs": [
        {
          "output_type": "execute_result",
          "data": {
            "text/html": [
              "<div>\n",
              "<style scoped>\n",
              "    .dataframe tbody tr th:only-of-type {\n",
              "        vertical-align: middle;\n",
              "    }\n",
              "\n",
              "    .dataframe tbody tr th {\n",
              "        vertical-align: top;\n",
              "    }\n",
              "\n",
              "    .dataframe thead th {\n",
              "        text-align: right;\n",
              "    }\n",
              "</style>\n",
              "<table border=\"1\" class=\"dataframe\">\n",
              "  <thead>\n",
              "    <tr style=\"text-align: right;\">\n",
              "      <th></th>\n",
              "      <th>A</th>\n",
              "      <th>B</th>\n",
              "    </tr>\n",
              "  </thead>\n",
              "  <tbody>\n",
              "    <tr>\n",
              "      <th>0</th>\n",
              "      <td>Cheryl Cassidy</td>\n",
              "      <td>Pauline</td>\n",
              "    </tr>\n",
              "    <tr>\n",
              "      <th>1</th>\n",
              "      <td>MacKenzie</td>\n",
              "      <td>Bernard Leach</td>\n",
              "    </tr>\n",
              "    <tr>\n",
              "      <th>2</th>\n",
              "      <td>Angeloz</td>\n",
              "      <td>De la Sota</td>\n",
              "    </tr>\n",
              "    <tr>\n",
              "      <th>3</th>\n",
              "      <td>Hell</td>\n",
              "      <td>Henry Rosenthal</td>\n",
              "    </tr>\n",
              "    <tr>\n",
              "      <th>4</th>\n",
              "      <td>Kitty Oppenheimer</td>\n",
              "      <td>Rivera</td>\n",
              "    </tr>\n",
              "  </tbody>\n",
              "</table>\n",
              "</div>"
            ],
            "text/plain": [
              "                   A                B\n",
              "0     Cheryl Cassidy          Pauline\n",
              "1          MacKenzie    Bernard Leach\n",
              "2            Angeloz       De la Sota\n",
              "3               Hell  Henry Rosenthal\n",
              "4  Kitty Oppenheimer           Rivera"
            ]
          },
          "metadata": {},
          "execution_count": 13
        }
      ]
    },
    {
      "cell_type": "code",
      "metadata": {
        "id": "eT_8kx-Gzb7Z"
      },
      "source": [
        "df_train['A_len'] = df_train['A'].str.split(' ').str.len()\n",
        "df_train['B_len'] = df_train['B'].str.split(' ').str.len()"
      ],
      "execution_count": 23,
      "outputs": []
    },
    {
      "cell_type": "code",
      "metadata": {
        "colab": {
          "base_uri": "https://localhost:8080/",
          "height": 297
        },
        "id": "MiK0y-ffz2pn",
        "outputId": "b41ef747-063f-42f4-b870-874032231789"
      },
      "source": [
        "df_train[['A_len', 'B_len']].describe()"
      ],
      "execution_count": 24,
      "outputs": [
        {
          "output_type": "execute_result",
          "data": {
            "text/html": [
              "<div>\n",
              "<style scoped>\n",
              "    .dataframe tbody tr th:only-of-type {\n",
              "        vertical-align: middle;\n",
              "    }\n",
              "\n",
              "    .dataframe tbody tr th {\n",
              "        vertical-align: top;\n",
              "    }\n",
              "\n",
              "    .dataframe thead th {\n",
              "        text-align: right;\n",
              "    }\n",
              "</style>\n",
              "<table border=\"1\" class=\"dataframe\">\n",
              "  <thead>\n",
              "    <tr style=\"text-align: right;\">\n",
              "      <th></th>\n",
              "      <th>A_len</th>\n",
              "      <th>B_len</th>\n",
              "    </tr>\n",
              "  </thead>\n",
              "  <tbody>\n",
              "    <tr>\n",
              "      <th>count</th>\n",
              "      <td>2000.000000</td>\n",
              "      <td>2000.00000</td>\n",
              "    </tr>\n",
              "    <tr>\n",
              "      <th>mean</th>\n",
              "      <td>1.526500</td>\n",
              "      <td>1.51250</td>\n",
              "    </tr>\n",
              "    <tr>\n",
              "      <th>std</th>\n",
              "      <td>0.688138</td>\n",
              "      <td>0.66488</td>\n",
              "    </tr>\n",
              "    <tr>\n",
              "      <th>min</th>\n",
              "      <td>1.000000</td>\n",
              "      <td>1.00000</td>\n",
              "    </tr>\n",
              "    <tr>\n",
              "      <th>25%</th>\n",
              "      <td>1.000000</td>\n",
              "      <td>1.00000</td>\n",
              "    </tr>\n",
              "    <tr>\n",
              "      <th>50%</th>\n",
              "      <td>1.000000</td>\n",
              "      <td>1.00000</td>\n",
              "    </tr>\n",
              "    <tr>\n",
              "      <th>75%</th>\n",
              "      <td>2.000000</td>\n",
              "      <td>2.00000</td>\n",
              "    </tr>\n",
              "    <tr>\n",
              "      <th>max</th>\n",
              "      <td>7.000000</td>\n",
              "      <td>6.00000</td>\n",
              "    </tr>\n",
              "  </tbody>\n",
              "</table>\n",
              "</div>"
            ],
            "text/plain": [
              "             A_len       B_len\n",
              "count  2000.000000  2000.00000\n",
              "mean      1.526500     1.51250\n",
              "std       0.688138     0.66488\n",
              "min       1.000000     1.00000\n",
              "25%       1.000000     1.00000\n",
              "50%       1.000000     1.00000\n",
              "75%       2.000000     2.00000\n",
              "max       7.000000     6.00000"
            ]
          },
          "metadata": {},
          "execution_count": 24
        }
      ]
    },
    {
      "cell_type": "markdown",
      "metadata": {
        "id": "FuU1GFvq1V5O"
      },
      "source": [
        "Looking at the above, I'm going to take a look at how many different outliers there are in the data using a couple histogram plots. If there's a low level of overall samples going out into the high number of tokens, I can probably just drop the samples from the data and move on as it would save me a ton of time when it comes to training the model. Please do note that according to the GCP ML engineer cert, that ML is really meant to model even the strangest nuances in your data. My biggest thought is if that I can save myself a lot of trouble and processing power only having to consider 2 nodes on my decoder instead of 7 nodes. That'll be incredibly beneificial in the long run."
      ]
    },
    {
      "cell_type": "code",
      "metadata": {
        "colab": {
          "base_uri": "https://localhost:8080/",
          "height": 332
        },
        "id": "jfDH2k3nz4ar",
        "outputId": "07d369eb-884e-444d-9aee-1e327bb1a710"
      },
      "source": [
        "df_train[['A_len', 'B_len']].hist()"
      ],
      "execution_count": 25,
      "outputs": [
        {
          "output_type": "execute_result",
          "data": {
            "text/plain": [
              "array([[<matplotlib.axes._subplots.AxesSubplot object at 0x7f23873dd510>,\n",
              "        <matplotlib.axes._subplots.AxesSubplot object at 0x7f238740a410>]],\n",
              "      dtype=object)"
            ]
          },
          "metadata": {},
          "execution_count": 25
        },
        {
          "output_type": "display_data",
          "data": {
            "image/png": "[encoded data removed]",
            "text/plain": [
              "<Figure size 432x288 with 2 Axes>"
            ]
          },
          "metadata": {
            "needs_background": "light"
          }
        }
      ]
    },
    {
      "cell_type": "markdown",
      "metadata": {
        "id": "rsGf0CeE2swy"
      },
      "source": [
        "Very nicely, we have really small tails on both sides for the upper number of tokens. Let's repeat this for A_len and B_len for >= 3."
      ]
    },
    {
      "cell_type": "code",
      "metadata": {
        "id": "qkFOjFTz3GxX"
      },
      "source": [
        "len_df = df_train[['A_len', 'B_len']].copy()"
      ],
      "execution_count": 27,
      "outputs": []
    },
    {
      "cell_type": "code",
      "metadata": {
        "colab": {
          "base_uri": "https://localhost:8080/",
          "height": 419
        },
        "id": "Y8YnTfj23MUN",
        "outputId": "a37e1cbb-2660-4fe6-ffb4-d51397f99fd6"
      },
      "source": [
        "le"
      ],
      "execution_count": 28,
      "outputs": [
        {
          "output_type": "execute_result",
          "data": {
            "text/html": [
              "<div>\n",
              "<style scoped>\n",
              "    .dataframe tbody tr th:only-of-type {\n",
              "        vertical-align: middle;\n",
              "    }\n",
              "\n",
              "    .dataframe tbody tr th {\n",
              "        vertical-align: top;\n",
              "    }\n",
              "\n",
              "    .dataframe thead th {\n",
              "        text-align: right;\n",
              "    }\n",
              "</style>\n",
              "<table border=\"1\" class=\"dataframe\">\n",
              "  <thead>\n",
              "    <tr style=\"text-align: right;\">\n",
              "      <th></th>\n",
              "      <th>A_len</th>\n",
              "      <th>B_len</th>\n",
              "    </tr>\n",
              "  </thead>\n",
              "  <tbody>\n",
              "    <tr>\n",
              "      <th>0</th>\n",
              "      <td>2</td>\n",
              "      <td>1</td>\n",
              "    </tr>\n",
              "    <tr>\n",
              "      <th>1</th>\n",
              "      <td>1</td>\n",
              "      <td>2</td>\n",
              "    </tr>\n",
              "    <tr>\n",
              "      <th>2</th>\n",
              "      <td>1</td>\n",
              "      <td>3</td>\n",
              "    </tr>\n",
              "    <tr>\n",
              "      <th>3</th>\n",
              "      <td>1</td>\n",
              "      <td>2</td>\n",
              "    </tr>\n",
              "    <tr>\n",
              "      <th>4</th>\n",
              "      <td>2</td>\n",
              "      <td>1</td>\n",
              "    </tr>\n",
              "    <tr>\n",
              "      <th>...</th>\n",
              "      <td>...</td>\n",
              "      <td>...</td>\n",
              "    </tr>\n",
              "    <tr>\n",
              "      <th>1995</th>\n",
              "      <td>1</td>\n",
              "      <td>1</td>\n",
              "    </tr>\n",
              "    <tr>\n",
              "      <th>1996</th>\n",
              "      <td>2</td>\n",
              "      <td>1</td>\n",
              "    </tr>\n",
              "    <tr>\n",
              "      <th>1997</th>\n",
              "      <td>1</td>\n",
              "      <td>2</td>\n",
              "    </tr>\n",
              "    <tr>\n",
              "      <th>1998</th>\n",
              "      <td>1</td>\n",
              "      <td>2</td>\n",
              "    </tr>\n",
              "    <tr>\n",
              "      <th>1999</th>\n",
              "      <td>1</td>\n",
              "      <td>1</td>\n",
              "    </tr>\n",
              "  </tbody>\n",
              "</table>\n",
              "<p>2000 rows × 2 columns</p>\n",
              "</div>"
            ],
            "text/plain": [
              "      A_len  B_len\n",
              "0         2      1\n",
              "1         1      2\n",
              "2         1      3\n",
              "3         1      2\n",
              "4         2      1\n",
              "...     ...    ...\n",
              "1995      1      1\n",
              "1996      2      1\n",
              "1997      1      2\n",
              "1998      1      2\n",
              "1999      1      1\n",
              "\n",
              "[2000 rows x 2 columns]"
            ]
          },
          "metadata": {},
          "execution_count": 28
        }
      ]
    },
    {
      "cell_type": "code",
      "metadata": {
        "colab": {
          "base_uri": "https://localhost:8080/",
          "height": 332
        },
        "id": "qEWD_zRF3p1X",
        "outputId": "a1e7a508-dfed-40ff-f27e-50c8b1e9a202"
      },
      "source": [
        "len_df[len_df['A_len'] >= 3].hist()"
      ],
      "execution_count": 36,
      "outputs": [
        {
          "output_type": "execute_result",
          "data": {
            "text/plain": [
              "array([[<matplotlib.axes._subplots.AxesSubplot object at 0x7f238613a310>,\n",
              "        <matplotlib.axes._subplots.AxesSubplot object at 0x7f2386141dd0>]],\n",
              "      dtype=object)"
            ]
          },
          "metadata": {},
          "execution_count": 36
        },
        {
          "output_type": "display_data",
          "data": {
            "image/png": "[encoded data removed]",
            "text/plain": [
              "<Figure size 432x288 with 2 Axes>"
            ]
          },
          "metadata": {
            "needs_background": "light"
          }
        }
      ]
    },
    {
      "cell_type": "code",
      "metadata": {
        "colab": {
          "base_uri": "https://localhost:8080/",
          "height": 332
        },
        "id": "vGFo0zry5M8t",
        "outputId": "3ab698c2-251d-44bb-e620-789b0cf166c8"
      },
      "source": [
        "len_df[len_df['B_len'] >= 3].hist()"
      ],
      "execution_count": 37,
      "outputs": [
        {
          "output_type": "execute_result",
          "data": {
            "text/plain": [
              "array([[<matplotlib.axes._subplots.AxesSubplot object at 0x7f2386019e10>,\n",
              "        <matplotlib.axes._subplots.AxesSubplot object at 0x7f2386044890>]],\n",
              "      dtype=object)"
            ]
          },
          "metadata": {},
          "execution_count": 37
        },
        {
          "output_type": "display_data",
          "data": {
            "image/png": "[encoded data removed]",
            "text/plain": [
              "<Figure size 432x288 with 2 Axes>"
            ]
          },
          "metadata": {
            "needs_background": "light"
          }
        }
      ]
    },
    {
      "cell_type": "markdown",
      "metadata": {
        "id": "OvNfHd8p5-Oj"
      },
      "source": [
        "In this problem, I'd end up dropping out about 60 samples and would definitely want to get buyin from the business before just doing this. If you have someone that knows the nuances of the data in production, now would be a very great time to ask them for their opinion on how often coreferences with larger names appear in the actual output. Personally, though, I feel like this is a great tradeoff for the longer term though when we want to construct a continuous training and inference pipeline on something like kubeflow. No sense in making the business pay more than necessary for just the right amount of stuff that it needs.\n",
        "\n",
        "For more detail, here's a rough drawing from an [article](https://towardsdatascience.com/how-to-implement-seq2seq-lstm-model-in-keras-shortcutnlp-6f355f3e5639) by Akira Takezawa on towardsdatascience.com:\n",
        "![seq2seq-model](https://drive.google.com/uc?export=view&id=1-09fxkhToEsiE9A2gYgSBQ4ZyqsPWHBy)"
      ]
    },
    {
      "cell_type": "markdown",
      "metadata": {
        "id": "pXiSMwFHAtRG"
      },
      "source": [
        "Finally another great picture of doing the seq2seq model with an embedding as shown here from [Guru99](https://www.guru99.com/seq2seq-model.html):\n",
        "![seq2seq-embedding](https://drive.google.com/uc?export=view&id=1-5xW0pK3yKwR9xFNYv9xU_ttMWRSvK4p)"
      ]
    },
    {
      "cell_type": "markdown",
      "metadata": {
        "id": "kh13akssBli7"
      },
      "source": [
        "Overall, I think we've completed a good problem exploration and refinement session. We can decide in later sessions whether we want to use an embedding in our data cleaning, pre-trained or not. Really a fun few hours though."
      ]
    }
  ]
}