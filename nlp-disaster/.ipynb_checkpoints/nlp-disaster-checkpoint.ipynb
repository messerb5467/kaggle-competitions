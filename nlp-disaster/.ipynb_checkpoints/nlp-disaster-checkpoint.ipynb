{
 "cells": [
  {
   "cell_type": "markdown",
   "metadata": {},
   "source": [
    "## Overview and judging requirements\n",
    "This competition is focused on familiarizing competitors with Natural Language Processing (NLP) and is scored based on the F1-Score. As I'm understanding precision and recall, precision is responsible for communicating the percentage of positive cases that were correctly identified meanwhile recall is responsible for communicating the percentage of people that were correctly classified. These two metrics are important themselves because when performing cancer screenings for instance, it is often cheaper to have additional screenings done than to tell a person that they are free of cancer.\n",
    "\n",
    "On top of this, the F1-score becomes a summary statistic (a weighted average) of the precision & recall letting us know precisely how good our model is."
   ]
  },
  {
   "cell_type": "markdown",
   "metadata": {},
   "source": [
    "Through this competition, I'll be maximizing the F1-score of my model based on a Twitter dataset to help understand if a given tweet is indicative of an emergency."
   ]
  },
  {
   "cell_type": "markdown",
   "metadata": {},
   "source": [
    "## Importing and reviewing the data"
   ]
  },
  {
   "cell_type": "code",
   "execution_count": 119,
   "metadata": {},
   "outputs": [],
   "source": [
    "import pandas as pd"
   ]
  },
  {
   "cell_type": "code",
   "execution_count": 120,
   "metadata": {},
   "outputs": [],
   "source": [
    "train = pd.read_csv('train.csv')\n",
    "test = pd.read_csv('test.csv')"
   ]
  },
  {
   "cell_type": "markdown",
   "metadata": {},
   "source": [
    "At this stage in the analysis, Kaggle was kind enough to provide information about the fields we see in the dataset:\n",
    "- id - a unique identifier for each tweet\n",
    "- text - the text of the tweet\n",
    "- location - the location the tweet was sent from (may be blank)\n",
    "- keyword - a particular keyword from the tweet (may be blank)\n",
    "- target - in train.csv only, this denotes whether a tweet is about a real disaster (1) or not (0)"
   ]
  },
  {
   "cell_type": "code",
   "execution_count": 121,
   "metadata": {},
   "outputs": [
    {
     "name": "stdout",
     "output_type": "stream",
     "text": [
      "<class 'pandas.core.frame.DataFrame'>\n",
      "RangeIndex: 7613 entries, 0 to 7612\n",
      "Data columns (total 5 columns):\n",
      " #   Column    Non-Null Count  Dtype \n",
      "---  ------    --------------  ----- \n",
      " 0   id        7613 non-null   int64 \n",
      " 1   keyword   7552 non-null   object\n",
      " 2   location  5080 non-null   object\n",
      " 3   text      7613 non-null   object\n",
      " 4   target    7613 non-null   int64 \n",
      "dtypes: int64(2), object(3)\n",
      "memory usage: 297.5+ KB\n"
     ]
    }
   ],
   "source": [
    "train.info()"
   ]
  },
  {
   "cell_type": "markdown",
   "metadata": {},
   "source": [
    "Immediately, it looks we're missing data that might be worthwhile imputing for both keyword and location. I'm interested if the KNNImputer would be useful in this case since there's a large amount of data to impute, but we know based on the problem statement that stakeholders are trying to determine if a given tweet corresponds to an emergency or not. If this data was collected in a similar timespan (something we could always ask about), it is possible that the gathered tweets have an unintended underlying clustering structure that we could take advantage of in our analysis. Let's go back to the datacamp courses on clustering in scikit-learn to see what I can come up with. "
   ]
  },
  {
   "cell_type": "markdown",
   "metadata": {},
   "source": [
    "One problem our stakeholders were having in tweet classification was determining the positive or negative context of a tweet given a specific word, which leads me in the direction of using an N-gram model with a Naive Bayes classifier for this project. That's later down the line though, so let's continue with imputing the data for the moment."
   ]
  },
  {
   "cell_type": "markdown",
   "metadata": {},
   "source": [
    "To perform the clustering as desired, it would be helpful to:\n",
    "1. Remove stop words, punctuation, reduce all words to a similar case, and be prepared to handle any mentions or hashtags present in the text itself.\n",
    "2. Tokenize, lemmatize, and convert the text into tfidf vectors to be used for later analysis.\n",
    "3. Understand the keyword data that is present and encode the existing data for eventual processing by any classifiers.\n",
    "4. Similar with location, I'm hoping of the possibility to encode, impute, and use the location information for not only predicting if there's an emergency, but understanding where it is and alerting authorities as appropriate.\n",
    "\n",
    "This definitely seems like an iterative process as I'm typing it out, but let's first focus on imputing the data. Now I'm starting to realize why people are always telling me to keep things small though. This full analysis is more likely to be done by a team of scientists. Not getting a chance to talk with people much, at least because there's very little time of shared interest in a topic, it can be hard to determine how work is split up amongst people."
   ]
  },
  {
   "cell_type": "markdown",
   "metadata": {},
   "source": [
    "Since people will happily oblige me when I talk about grand scopes like this but never get the resources to follow through, let's focus on generating our n-grams and making our NaiveBayesClassifier. "
   ]
  },
  {
   "cell_type": "markdown",
   "metadata": {},
   "source": [
    "## Tokenizing strings, filtering punctuation, stopwords,and lemmatization\n",
    "Referencing this book from Stanford (https://nlp.stanford.edu/IR-book/html/htmledition/stemming-and-lemmatization-1.html), it seems like lemmatization is much safer than stemming for reducing words down to their base form."
   ]
  },
  {
   "cell_type": "code",
   "execution_count": 118,
   "metadata": {},
   "outputs": [],
   "source": [
    "from nltk.tokenize import TweetTokenizer\n",
    "from nltk.corpus import stopwords\n",
    "from nltk.stem import WordNetLemmatizer\n",
    "import string"
   ]
  },
  {
   "cell_type": "code",
   "execution_count": 122,
   "metadata": {},
   "outputs": [],
   "source": [
    "def clean_text(tweet):\n",
    "    token_list = TweetTokenizer(preserve_case=False, reduce_len=True, strip_handles=True).tokenize(tweet)\n",
    "    wordnet = WordNetLemmatizer()\n",
    "    cleaned_tokens = []\n",
    "    for word in token_list:\n",
    "        if word not in stopwords.words('english') and word not in string.punctuation:\n",
    "            cleaned_tokens.append(wordnet.lemmatize(word))\n",
    "    return cleaned_tokens"
   ]
  },
  {
   "cell_type": "code",
   "execution_count": 123,
   "metadata": {},
   "outputs": [],
   "source": [
    "train['tweet_tkn'] = train['text'].apply(clean_text)"
   ]
  },
  {
   "cell_type": "code",
   "execution_count": 124,
   "metadata": {},
   "outputs": [
    {
     "data": {
      "text/plain": [
       "0       [deed, reason, #earthquake, may, allah, forgiv...\n",
       "1           [forest, fire, near, la, ronge, sask, canada]\n",
       "2       [resident, asked, shelter, place, notified, of...\n",
       "3       [13,000, people, receive, #wildfires, evacuati...\n",
       "4       [got, sent, photo, ruby, #alaska, smoke, #wild...\n",
       "                              ...                        \n",
       "7608    [two, giant, crane, holding, bridge, collapse,...\n",
       "7609    [control, wild, fire, california, even, northe...\n",
       "7610    [m1, 94, 01:04, utc, 5km, volcano, hawaii, htt...\n",
       "7611    [police, investigating, e-bike, collided, car,...\n",
       "7612    [latest, home, razed, northern, california, wi...\n",
       "Name: tweet_tkn, Length: 7613, dtype: object"
      ]
     },
     "execution_count": 124,
     "metadata": {},
     "output_type": "execute_result"
    }
   ],
   "source": [
    "train['tweet_tkn']"
   ]
  },
  {
   "cell_type": "markdown",
   "metadata": {},
   "source": [
    "## Experimenting with different feature types\n",
    "It took me about 4 hrs to realize I needed to use string.punctuation instead of a list when preprocessing the tweets in the above example. That's ok though as I need to get through this stuff on my own time instead of wasting work's time. The next thing I need to do is to train a simple model and then iterate towards a stronger solution."
   ]
  },
  {
   "cell_type": "markdown",
   "metadata": {},
   "source": [
    "Looking over the competition start guide again (https://www.kaggle.com/c/nlp-getting-started), I think I have two options for generating feature types, generating models, and getting an idea of which one performs better on the tokenized data. Looking back into CRISP-DM, I found this extended set of delivery process for ASUM-DM (http://200.3.193.9/ASUM-DM_External/cognos.external.asum-DM_Teaser/deliveryprocesses/ASUM-DM_8A5C87D5.html_tbs.html?proc=_0eKIHlt6EeW_y7k3h2HTng&path=_0eKIHlt6EeW_y7k3h2HTng) that gives a good idea of what a project lifecycle would look like for an analytics solution. This would appear similarly in the IBM AI workflow certificate, but is always worth a good view of what needs done by everyone that would be involved in one of these projects."
   ]
  },
  {
   "cell_type": "code",
   "execution_count": 126,
   "metadata": {},
   "outputs": [],
   "source": [
    "from sklearn.feature_extraction.text import CountVectorizer"
   ]
  },
  {
   "cell_type": "markdown",
   "metadata": {},
   "source": [
    "Before going further, let's understand the distribution of our tweet length so I can understand what the tweet length should look like."
   ]
  },
  {
   "cell_type": "code",
   "execution_count": 127,
   "metadata": {},
   "outputs": [],
   "source": [
    "train['tweet_len'] = train['tweet_tkn'].apply(lambda x: len(x))"
   ]
  },
  {
   "cell_type": "code",
   "execution_count": 128,
   "metadata": {},
   "outputs": [],
   "source": [
    "import seaborn as sns"
   ]
  },
  {
   "cell_type": "code",
   "execution_count": 129,
   "metadata": {},
   "outputs": [
    {
     "data": {
      "text/plain": [
       "<AxesSubplot:xlabel='tweet_len', ylabel='Count'>"
      ]
     },
     "execution_count": 129,
     "metadata": {},
     "output_type": "execute_result"
    },
    {
     "data": {
      "image/png": "[encoded data removed]",
      "text/plain": [
       "<Figure size 432x288 with 1 Axes>"
      ]
     },
     "metadata": {
      "needs_background": "light"
     },
     "output_type": "display_data"
    }
   ],
   "source": [
    "sns.histplot(x='tweet_len', data=train)"
   ]
  },
  {
   "cell_type": "code",
   "execution_count": 130,
   "metadata": {},
   "outputs": [
    {
     "data": {
      "text/plain": [
       "count    7613.000000\n",
       "mean       10.035072\n",
       "std         4.094355\n",
       "min         0.000000\n",
       "25%         7.000000\n",
       "50%        10.000000\n",
       "75%        13.000000\n",
       "max        26.000000\n",
       "Name: tweet_len, dtype: float64"
      ]
     },
     "execution_count": 130,
     "metadata": {},
     "output_type": "execute_result"
    }
   ],
   "source": [
    "train['tweet_len'].describe()"
   ]
  },
  {
   "cell_type": "markdown",
   "metadata": {},
   "source": [
    "I would say we can safely generate an n-gram model using ngrams in the range of 3-5 inside of the CountVectorizer without worrying about blowing out the underlying memory on my laptop. This also gives me another method of experimentation in finding the perfect n-gram range for this problem.\n",
    "\n",
    "For a CountVectorizer n-gram model, following along with this [reference](https://campus.datacamp.com/courses/feature-engineering-for-nlp-in-python/n-gram-models?ex=10) here, it seems like the data needs to be a full string for the algorithm to work correctly. Let's make another column, get this feature made and continue along."
   ]
  },
  {
   "cell_type": "code",
   "execution_count": 134,
   "metadata": {},
   "outputs": [],
   "source": [
    "train['tweet_tkn_comb'] = train['tweet_tkn'].apply(lambda x: ' '.join(x))"
   ]
  },
  {
   "cell_type": "code",
   "execution_count": 162,
   "metadata": {},
   "outputs": [],
   "source": [
    "vectorizer = CountVectorizer(ngram_range=(3,5))"
   ]
  },
  {
   "cell_type": "code",
   "execution_count": 163,
   "metadata": {},
   "outputs": [],
   "source": [
    "x_train = vectorizer.fit_transform(train['tweet_tkn_comb'])"
   ]
  },
  {
   "cell_type": "code",
   "execution_count": 164,
   "metadata": {},
   "outputs": [
    {
     "data": {
      "text/plain": [
       "<7613x148549 sparse matrix of type '<class 'numpy.int64'>'\n",
       "\twith 180102 stored elements in Compressed Sparse Row format>"
      ]
     },
     "execution_count": 164,
     "metadata": {},
     "output_type": "execute_result"
    }
   ],
   "source": [
    "x_train"
   ]
  },
  {
   "cell_type": "markdown",
   "metadata": {},
   "source": [
    "## Fitting the first model"
   ]
  },
  {
   "cell_type": "code",
   "execution_count": 165,
   "metadata": {},
   "outputs": [],
   "source": [
    "from sklearn.naive_bayes import MultinomialNB"
   ]
  },
  {
   "cell_type": "markdown",
   "metadata": {},
   "source": [
    "Besides just relying on MultinomialNB as my model of choice because [datacamp uses it](https://campus.datacamp.com/courses/feature-engineering-for-nlp-in-python/n-gram-models?ex=11), [scikit-learn documentation](https://scikit-learn.org/stable/modules/naive_bayes.html#multinomial-naive-bayes) gives an idea that MultinomialNB is actually really good for text classification problems where word counts or tfidf frequencies are the inputs. As implied by the scikit learn documentation, the theta weights I'm estimating correspond to the different dimensions of the vocabulary, or the overall set of words contained in my training and test examples.\n",
    "\n",
    "At this point, I think we're ready to fit the first model and see how well it handles on the data."
   ]
  },
  {
   "cell_type": "code",
   "execution_count": 166,
   "metadata": {},
   "outputs": [],
   "source": [
    "clf_nb = MultinomialNB()"
   ]
  },
  {
   "cell_type": "code",
   "execution_count": 167,
   "metadata": {},
   "outputs": [
    {
     "data": {
      "text/plain": [
       "MultinomialNB()"
      ]
     },
     "execution_count": 167,
     "metadata": {},
     "output_type": "execute_result"
    }
   ],
   "source": [
    "clf_nb.fit(x_train, train['target'])"
   ]
  },
  {
   "cell_type": "code",
   "execution_count": 168,
   "metadata": {},
   "outputs": [],
   "source": [
    "from sklearn.metrics import f1_score"
   ]
  },
  {
   "cell_type": "code",
   "execution_count": 169,
   "metadata": {},
   "outputs": [],
   "source": [
    "train_predictions = clf_nb.predict(x_train)"
   ]
  },
  {
   "cell_type": "code",
   "execution_count": 170,
   "metadata": {},
   "outputs": [
    {
     "data": {
      "text/plain": [
       "0.9804893155775781"
      ]
     },
     "execution_count": 170,
     "metadata": {},
     "output_type": "execute_result"
    }
   ],
   "source": [
    "f1_score(train['target'], train_predictions)"
   ]
  },
  {
   "cell_type": "markdown",
   "metadata": {},
   "source": [
    "Since I don't have predictions for my test set to compare against, I wanted to see what score I got on my training set before uploading to kaggle for my first submission. This first submission looks really good, but I can't verify without uploading to kaggle if my model is just overfitting or not. Let's see what the first submission looks like."
   ]
  },
  {
   "cell_type": "code",
   "execution_count": 171,
   "metadata": {},
   "outputs": [],
   "source": [
    "test['tweet_tkn'] = test['text'].apply(clean_text)"
   ]
  },
  {
   "cell_type": "code",
   "execution_count": 172,
   "metadata": {},
   "outputs": [],
   "source": [
    "test['tweet_tkn_comb'] = test['tweet_tkn'].apply(lambda x: ' '.join(x))"
   ]
  },
  {
   "cell_type": "code",
   "execution_count": 173,
   "metadata": {},
   "outputs": [],
   "source": [
    "x_test = vectorizer.transform(test['tweet_tkn_comb'])"
   ]
  },
  {
   "cell_type": "code",
   "execution_count": 174,
   "metadata": {},
   "outputs": [],
   "source": [
    "test_pred = clf_nb.predict(x_test)"
   ]
  },
  {
   "cell_type": "code",
   "execution_count": 178,
   "metadata": {},
   "outputs": [],
   "source": [
    "sample_submission = pd.DataFrame({'id': test.id, 'target': test_pred})"
   ]
  },
  {
   "cell_type": "code",
   "execution_count": 179,
   "metadata": {},
   "outputs": [],
   "source": [
    "sample_submission.to_csv('submission.csv', index=False)"
   ]
  },
  {
   "cell_type": "markdown",
   "metadata": {},
   "source": [
    "## Results of the first submission\n",
    "The first submission shows that I had a score of .73398, which implies that my model is heavily overfitting to the training data that I have available. The next thing I'd want to look into is what can I do to inside of model validation to prevent the overfitting that I have going on. Some of the questions I'm really trying to handle are:\n",
    "1. Did I choose a good model?\n",
    "2. Did I not clean the text appropriately?\n",
    "3. Do I need to tune the number of ngrams I'm using?\n",
    "4. Is there any hyper parameter tuning that could be done to get better performance out of the model."
   ]
  },
  {
   "cell_type": "markdown",
   "metadata": {},
   "source": [
    "After taking a break, my first thought is that I need to adjust the ngram range on the vectorizer to account for overfitting. Unfortunately, I'm not sure which way it really needs tuned, so I'll just continue trying things out."
   ]
  },
  {
   "cell_type": "code",
   "execution_count": 188,
   "metadata": {},
   "outputs": [],
   "source": [
    "vectorizer1 = CountVectorizer(ngram_range=(1,3))"
   ]
  },
  {
   "cell_type": "code",
   "execution_count": 189,
   "metadata": {},
   "outputs": [],
   "source": [
    "x_train1 = vectorizer1.fit_transform(train['tweet_tkn_comb'])"
   ]
  },
  {
   "cell_type": "code",
   "execution_count": 190,
   "metadata": {},
   "outputs": [],
   "source": [
    "clf_nb2 = MultinomialNB()"
   ]
  },
  {
   "cell_type": "code",
   "execution_count": 191,
   "metadata": {},
   "outputs": [
    {
     "data": {
      "text/plain": [
       "MultinomialNB()"
      ]
     },
     "execution_count": 191,
     "metadata": {},
     "output_type": "execute_result"
    }
   ],
   "source": [
    "clf_nb2.fit(x_train1, train['target'])"
   ]
  },
  {
   "cell_type": "code",
   "execution_count": 192,
   "metadata": {},
   "outputs": [],
   "source": [
    "predictions = clf_nb2.predict(x_train1)"
   ]
  },
  {
   "cell_type": "code",
   "execution_count": 193,
   "metadata": {},
   "outputs": [
    {
     "data": {
      "text/plain": [
       "0.9744379427163535"
      ]
     },
     "execution_count": 193,
     "metadata": {},
     "output_type": "execute_result"
    }
   ],
   "source": [
    "f1_score(train['target'], predictions)"
   ]
  },
  {
   "cell_type": "markdown",
   "metadata": {},
   "source": [
    "## Trying a different cleaning approach\n",
    "After trying an ngram_range of (3,4) and (1,3) in the above section based on this [notebook](https://www.kaggle.com/vishalsiram50/fine-tuning-bert-88-accuracy), I couldn't squeeze any more performance out of this approach since the f1_score hardly decreased from the prior run. Now it seems like trying a different approach would be a good idea so I can start with a fresh pair of eyes."
   ]
  },
  {
   "cell_type": "markdown",
   "metadata": {},
   "source": [
    "Reviewing that same notebook more, I can build upon the same cleaning schema I did before, but use the TfidfVectorizer instead of the CountVectorizer to build output for my model."
   ]
  },
  {
   "cell_type": "code",
   "execution_count": 194,
   "metadata": {},
   "outputs": [],
   "source": [
    "from sklearn.feature_extraction.text import TfidfVectorizer"
   ]
  },
  {
   "cell_type": "code",
   "execution_count": 195,
   "metadata": {},
   "outputs": [],
   "source": [
    "tfidf = TfidfVectorizer(ngram_range=(1,3))"
   ]
  },
  {
   "cell_type": "code",
   "execution_count": 196,
   "metadata": {},
   "outputs": [],
   "source": [
    "x_train2 = tfidf.fit_transform(train['tweet_tkn_comb'])"
   ]
  },
  {
   "cell_type": "code",
   "execution_count": 197,
   "metadata": {},
   "outputs": [],
   "source": [
    "clf_nb3 = MultinomialNB()"
   ]
  },
  {
   "cell_type": "code",
   "execution_count": 200,
   "metadata": {},
   "outputs": [
    {
     "data": {
      "text/plain": [
       "MultinomialNB()"
      ]
     },
     "execution_count": 200,
     "metadata": {},
     "output_type": "execute_result"
    }
   ],
   "source": [
    "clf_nb3.fit(x_train2, train['target'])"
   ]
  },
  {
   "cell_type": "code",
   "execution_count": 201,
   "metadata": {},
   "outputs": [],
   "source": [
    "prediction = clf_nb3.predict(x_train2)"
   ]
  },
  {
   "cell_type": "code",
   "execution_count": 202,
   "metadata": {},
   "outputs": [
    {
     "data": {
      "text/plain": [
       "0.9500474233322794"
      ]
     },
     "execution_count": 202,
     "metadata": {},
     "output_type": "execute_result"
    }
   ],
   "source": [
    "f1_score(train['target'], prediction)"
   ]
  },
  {
   "cell_type": "code",
   "execution_count": 203,
   "metadata": {},
   "outputs": [],
   "source": [
    "x_test2 = tfidf.transform(test['tweet_tkn_comb'])"
   ]
  },
  {
   "cell_type": "code",
   "execution_count": 204,
   "metadata": {},
   "outputs": [],
   "source": [
    "sub2_predictions = clf_nb3.predict(x_test2)"
   ]
  },
  {
   "cell_type": "code",
   "execution_count": 206,
   "metadata": {},
   "outputs": [],
   "source": [
    "sub_cv_df2 = pd.DataFrame({'id': test.id, 'target': sub2_predictions})"
   ]
  },
  {
   "cell_type": "code",
   "execution_count": 207,
   "metadata": {},
   "outputs": [],
   "source": [
    "sub_cv_df2.to_csv('submission2.csv', index=False)"
   ]
  },
  {
   "cell_type": "markdown",
   "metadata": {},
   "source": [
    "Ok. So the 2nd round submission shown here did incredible. I just jumped up 600 some odd places on the leaderboard with only a minor improvement .03 improvement in my F1 score. Let's keep this going :)"
   ]
  },
  {
   "cell_type": "markdown",
   "metadata": {},
   "source": [
    "## Round 3\n",
    "The last round actually went incredibly well, so I think it might be time to try hyperparameter tuning on this dataset to see if it gets any better. If this round does, perhaps I can also consider moving into something more complicated like a neural network."
   ]
  },
  {
   "cell_type": "markdown",
   "metadata": {},
   "source": [
    "As it turns out round 3 was actually pretty easy, between the [scikit-learn multinomial naive bayes documentation](https://scikit-learn.org/stable/modules/generated/sklearn.naive_bayes.MultinomialNB.html) and [this medium article about smoothing parameters](https://medium.com/@ODSC/a-short-summary-of-smoothing-algorithms-3cfbbf396d2d), there's not really any room to be had on modifying alpha when we're already getting the best smoothing we can out of the algorithm. What it does tell me though is that I need to look up or buy a numerical methods as well as an optimization book so that I can get more in-depth knowledge about how the smoothing works behind the scenes and make smarter decisions because of it.\n",
    "\n",
    "The [sklearn MultinomialNB glossary entry](https://scikit-learn.org/stable/modules/naive_bayes.html#multinomial-naive-bayes) final sentence also implies that the domain for alpha is between 0 and 1, thus I don't think I have any more room to budge on this area."
   ]
  },
  {
   "cell_type": "markdown",
   "metadata": {},
   "source": [
    "## Round 4\n",
    "I think the most obvious thing to do before diving into a completely different model is to try something like cross-validation and see if I can get rid of any obvious overfitting to this data before going further."
   ]
  },
  {
   "cell_type": "code",
   "execution_count": 228,
   "metadata": {},
   "outputs": [],
   "source": [
    "import numpy as np\n",
    "from sklearn.model_selection import StratifiedKFold, cross_val_score\n",
    "import matplotlib.pyplot as plt"
   ]
  },
  {
   "cell_type": "code",
   "execution_count": 221,
   "metadata": {},
   "outputs": [],
   "source": [
    "folds = np.arange(5, 26, 1)"
   ]
  },
  {
   "cell_type": "code",
   "execution_count": 222,
   "metadata": {},
   "outputs": [],
   "source": [
    "clf_nb4 = MultinomialNB()"
   ]
  },
  {
   "cell_type": "code",
   "execution_count": 237,
   "metadata": {},
   "outputs": [],
   "source": [
    "f1_cv_scores = []\n",
    "for fold in folds:\n",
    "    strat_cv = StratifiedKFold(n_splits=fold, shuffle=True, random_state=1111)\n",
    "    f1_score_mean = cross_val_score(clf_nb4, x_train2, train['target'], cv=strat_cv, scoring='f1').mean()\n",
    "    f1_cv_scores.append(f1_score_mean)"
   ]
  },
  {
   "cell_type": "code",
   "execution_count": 238,
   "metadata": {},
   "outputs": [],
   "source": [
    "wrapped_scores = pd.Series(f1_cv_scores, index=folds)"
   ]
  },
  {
   "cell_type": "code",
   "execution_count": 239,
   "metadata": {},
   "outputs": [
    {
     "data": {
      "image/png": "[encoded data removed]",
      "text/plain": [
       "<Figure size 432x288 with 1 Axes>"
      ]
     },
     "metadata": {
      "needs_background": "light"
     },
     "output_type": "display_data"
    }
   ],
   "source": [
    "plt.plot(wrapped_scores)\n",
    "plt.title('F1_Score versus Folds')\n",
    "plt.xlabel('Number of folds')\n",
    "plt.ylabel('F1 Score')\n",
    "plt.show()"
   ]
  },
  {
   "cell_type": "markdown",
   "metadata": {},
   "source": [
    "This is actually really amazing. Following along with [this notebook](https://www.kaggle.com/vishalsiram50/fine-tuning-bert-88-accuracy/comments), I was able to drop by F1 score by a lot. From what it looks like, I should always be doing cross-validation in my personal process to ensure that I squeeze out the absolute best performance I can out of my model."
   ]
  },
  {
   "cell_type": "markdown",
   "metadata": {},
   "source": [
    "Now the big question is, how can I feed this back into this new information into my modeling process to improve the end output?"
   ]
  },
  {
   "cell_type": "markdown",
   "metadata": {},
   "source": [
    "At this point it looks like I'm starting to confuse myself on process. Everything has been moving so fast that I forgot I'm more towards the end of the process and there's not really much I can tune (at least I don't think for this model). Randomizing the training data though helps realize just how well this model would do if it were deployed to production. Even better, though, I could break out something like a neural network and keep hacking away at this problem since this would help reinforce the crisp-dm/asum-dm process so long as I have time, which I think I do."
   ]
  },
  {
   "cell_type": "code",
   "execution_count": 240,
   "metadata": {},
   "outputs": [],
   "source": [
    "from sklearn.metrics import plot_roc_curve"
   ]
  },
  {
   "cell_type": "code",
   "execution_count": 244,
   "metadata": {},
   "outputs": [
    {
     "data": {
      "text/plain": [
       "<sklearn.metrics._plot.roc_curve.RocCurveDisplay at 0x7f0c0a9638e0>"
      ]
     },
     "execution_count": 244,
     "metadata": {},
     "output_type": "execute_result"
    },
    {
     "data": {
      "image/png": "[encoded data removed]",
      "text/plain": [
       "<Figure size 432x288 with 1 Axes>"
      ]
     },
     "metadata": {
      "needs_background": "light"
     },
     "output_type": "display_data"
    }
   ],
   "source": [
    "plot_roc_curve(clf_nb3, x_train2, train['target'])"
   ]
  },
  {
   "cell_type": "code",
   "execution_count": 245,
   "metadata": {},
   "outputs": [
    {
     "data": {
      "text/plain": [
       "<sklearn.metrics._plot.roc_curve.RocCurveDisplay at 0x7f0c0ab40c40>"
      ]
     },
     "execution_count": 245,
     "metadata": {},
     "output_type": "execute_result"
    },
    {
     "data": {
      "image/png": "[encoded data removed]",
      "text/plain": [
       "<Figure size 432x288 with 1 Axes>"
      ]
     },
     "metadata": {
      "needs_background": "light"
     },
     "output_type": "display_data"
    }
   ],
   "source": [
    "plot_roc_curve(clf_nb3, x_test2, sub2_predictions)"
   ]
  },
  {
   "cell_type": "markdown",
   "metadata": {},
   "source": [
    "Based on this [medium article about overfitting](https://towardsdatascience.com/overfitting-vs-underfitting-a-complete-example-d05dd7e19765), I'm inferring we've reached the end of the line for this model without resorting to something like deep learning that could really crack this model open in a new light.\n",
    "\n",
    "Again, I could use model stacking and ensembling, but I'm unsure I'd be meeting the speed requirements necessary for a production buildout. Even from classical machine learning standpoint, an AUC of 1.0 on the testing dataset literally cannot get any better. Thus I think we're good to say case closed here."
   ]
  },
  {
   "cell_type": "code",
   "execution_count": null,
   "metadata": {},
   "outputs": [],
   "source": []
  }
 ],
 "metadata": {
  "kernelspec": {
   "display_name": "Python 3",
   "language": "python",
   "name": "python3"
  },
  "language_info": {
   "codemirror_mode": {
    "name": "ipython",
    "version": 3
   },
   "file_extension": ".py",
   "mimetype": "text/x-python",
   "name": "python",
   "nbconvert_exporter": "python",
   "pygments_lexer": "ipython3",
   "version": "3.8.5"
  }
 },
 "nbformat": 4,
 "nbformat_minor": 4
}
